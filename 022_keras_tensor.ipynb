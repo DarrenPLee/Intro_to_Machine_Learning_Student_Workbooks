{
  "cells": [
    {
      "cell_type": "code",
      "execution_count": 1,
      "metadata": {
        "id": "gGsMHgvKZVRO"
      },
      "outputs": [],
      "source": [
        "import numpy as np\n",
        "import pandas as pd\n",
        "from keras.models import Sequential\n",
        "from keras.layers import Dense, Dropout\n",
        "from sklearn.model_selection import train_test_split\n",
        "from sklearn.metrics import mean_absolute_error\n",
        "import tensorflow as tf\n",
        "from keras.utils import np_utils\n",
        "\n",
        "import matplotlib as mpl\n",
        "import matplotlib.pyplot as plt\n",
        "from sklearn.decomposition import TruncatedSVD"
      ]
    },
    {
      "cell_type": "code",
      "execution_count": 2,
      "metadata": {
        "id": "_lu_r1ndZVRR"
      },
      "outputs": [],
      "source": [
        "# Helper to plot loss\n",
        "def plot_loss(history):\n",
        "  plt.plot(history.history['loss'], label='loss')\n",
        "  plt.plot(history.history['val_loss'], label='val_loss')\n",
        "  plt.legend()\n",
        "  plt.grid(True)"
      ]
    },
    {
      "attachments": {},
      "cell_type": "markdown",
      "metadata": {
        "id": "52niBYdKZVRS"
      },
      "source": [
        "# Keras, TensorFlow, and Neural Network Regression\n",
        "\n",
        "As we have seen, neural networks aren't quite as complex as they appear at first, however we still generally don't want to have to build them from scratch very often. The libraries that we will primarily use for creating neural network models are Tensorflow and Keras. Keras and Tensorflow combine to be roughly what sklearn was for the other types of models we've used. \n",
        "\n",
        "### Tensorflow\n",
        "\n",
        "Tensorflow, developed by Google, is one of the most popular libraries for neural networks. \n",
        "\n",
        "### Keras\n",
        "\n",
        "Keras is another package that provides an an API offering an easier to use interface to Tensorflow, allowing us to use it with code that is higher level, avoiding much of the linear math that can make Tensorflow frustrating. Since its introduction Keras has been wrapped in with Tensorflow and the two are normally now blended together as far as we are concerned. \n",
        "\n",
        "### Other Alternatives\n",
        "\n",
        "Keras and Tensorflow are not the only libraries of neural networks, the primary competitor to Tensorflow is PyTorch, which was developed by Facebook. PyTorch does pretty much the same thing as Tensorflow, we won't look at it. While PyTorch is less commonly used than Tensorflow right now, it has picked up steam recently. There's a pretty high likelihood that both Tensorflow and PyTorch will be common for the foreseeable future.\n",
        "\n",
        "### Optimization and Efficiency Notes\n",
        "\n",
        "Neural networks are very computationally expensive, and can take a long time to train. As we move into looking at some larger models in the near future, the processing time on a typical laptop will become prohibitive. We will utilize Google Colab for some of these examples, which will allow us to borrow some GPU processing that is often drastically faster than what we can get on our own machines.\n",
        "\n",
        "If you happen to have a machine with a nVidia GPU, an M1/M2 Mac, or potentially a couple of other GPUs, you can install an optimized version of Tensorflow on your machine that will allow this stuff to use your GPU and be way faster without using Colab. This isn't required, but it is a good idea if your computer is capable. I don't have a GPU, so I don't have a detailed example, but you can google \"install tensorflow GPU/M1 Mac\" or similar for your GPU and there will be some pretty simple step-by-step instructions. If available, this will make a big difference in the speed of your models. "
      ]
    },
    {
      "attachments": {},
      "cell_type": "markdown",
      "metadata": {},
      "source": [
        "## Remote Data and Google Colab\n",
        "\n",
        "Below we'll load some data, however here we'll load something from a data repository that I setup on Azure, rather than the desktop, as we normally would. This is easy to do, we just change the path to the URL and use our \"read_csv\" as usual. The reason for this is that we are going to use Google Colab for some of the processing here, and if we are loading data from some static location, like this server address, we don't need to worry about loading data files and maintaining file paths. This will likely be something that you need to at least pay some attention to if you are using Colab. The key thing to remember is that it doesn't matter where the data is stored, as long as you can get to it. So if we need to change the data to make things work, we may have to change the loading bit to make it work. \n",
        "\n",
        "#### Your Remote Data\n",
        "\n",
        "If you have a large-ish dataset that you're using, you can do the same thing. The datasets can be loaded directly from your github repository URL, as long as you get the \"Raw\" URL from Github. Click on the raw link on a file, then use the URL of the resulting page:\n",
        "\n",
        "![Raw Link](images/github_raw.png \"Raw Link\")\n",
        "\n",
        "Then you can use that URL to load the data. If you have data that comes from some site on the internet, you can likely load it similarly, assuming there's no security on the site blocking you from loading it. If there's something that doesn't work in any reasonable way, let me know, we might be able to put it on this Azure repository. I can't promise that in every situation though, it isn't free - though Azure, AWS, and Google Cloud all have free access of various levels that you could sign up for and use, if you wanted to. You can also save stuff to your Google Drive, and then load it from there - Google instructions if you need to do this. \n",
        "\n",
        "### Google Colab\n",
        "\n",
        "As noted, we'll use Colab for some of our neural network stuff, as it gives us GPU access, which is massively helpful in many situations. The URL for Colab is https://colab.research.google.com/ and you can sign in with your Google account. Once on Colab, it works pretty much like Jupyter notebooks. To load data from Github, we can go to File->Open Notebook->Github, and then paste in the URL of the repository we want to load and select the notebook. Once loaded, it is basically a normal notebook. The one thing to pay attention to is that if there are any file loading bits in the code, those will fail, as noted above. \n",
        "\n",
        "Inside of Colab, the one key thing we want is to enable GPU accelleration. To do this, go to Edit->Notebook Settings, and then select GPU as the hardware accelerator. This will make a big difference in the speed of your models when using tensorflow. One thing to note is that while we get a bunch of GPU time for free, it is limited. So it is probably a waste to run huge tests with massive numbers of epochs, over and over, as you will likely run out of GPU time at some point. It will reset, but how much is allocated to each person is basically up to the whims of Google at any given moment. The \"!\" command below will print the details on the GPU that is currently being used.\n",
        "\n",
        "I prefer to do all the editing in VS Code, save, upload to Github, then load and run the final code in a Colab window. This is more personal prefence than anything else, but it works well for me. You can also edit and save things in Colab, including back to Github, but you will likely need to do some authorization to allow access, and the process feels more annoying to me. For ease, I added this parameter to set the epochs globally for this notebook, so I can set it to a low number while working locally, then increase it when I want to test the actual performance on Colab. We could do a similar thing with sampling large datasets. "
      ]
    },
    {
      "cell_type": "code",
      "execution_count": null,
      "metadata": {},
      "outputs": [],
      "source": [
        "!pip install nvi"
      ]
    },
    {
      "cell_type": "code",
      "execution_count": 3,
      "metadata": {},
      "outputs": [
        {
          "name": "stderr",
          "output_type": "stream",
          "text": [
            "'nvidia-smi.exe' is not recognized as an internal or external command,\n",
            "operable program or batch file.\n"
          ]
        }
      ],
      "source": [
        "BASE_EPOCHS = 100\n",
        "!nvidia-smi.exe -L"
      ]
    },
    {
      "cell_type": "code",
      "execution_count": 4,
      "metadata": {
        "id": "JrKP3wO_ZVRT",
        "outputId": "1ac1822c-99a5-4e98-ea4d-0158aed55c65"
      },
      "outputs": [
        {
          "data": {
            "text/html": [
              "<div>\n",
              "<style scoped>\n",
              "    .dataframe tbody tr th:only-of-type {\n",
              "        vertical-align: middle;\n",
              "    }\n",
              "\n",
              "    .dataframe tbody tr th {\n",
              "        vertical-align: top;\n",
              "    }\n",
              "\n",
              "    .dataframe thead th {\n",
              "        text-align: right;\n",
              "    }\n",
              "</style>\n",
              "<table border=\"1\" class=\"dataframe\">\n",
              "  <thead>\n",
              "    <tr style=\"text-align: right;\">\n",
              "      <th></th>\n",
              "      <th>price</th>\n",
              "      <th>bedrooms</th>\n",
              "      <th>bathrooms</th>\n",
              "      <th>sqft_living</th>\n",
              "      <th>sqft_lot</th>\n",
              "      <th>floors</th>\n",
              "      <th>waterfront</th>\n",
              "      <th>view</th>\n",
              "      <th>condition</th>\n",
              "      <th>grade</th>\n",
              "      <th>sqft_above</th>\n",
              "      <th>sqft_basement</th>\n",
              "      <th>yr_built</th>\n",
              "      <th>yr_renovated</th>\n",
              "      <th>zipcode</th>\n",
              "      <th>lat</th>\n",
              "      <th>long</th>\n",
              "      <th>sqft_living15</th>\n",
              "      <th>sqft_lot15</th>\n",
              "    </tr>\n",
              "  </thead>\n",
              "  <tbody>\n",
              "    <tr>\n",
              "      <th>21608</th>\n",
              "      <td>360000.0</td>\n",
              "      <td>3</td>\n",
              "      <td>2.50</td>\n",
              "      <td>1530</td>\n",
              "      <td>1131</td>\n",
              "      <td>3.0</td>\n",
              "      <td>0</td>\n",
              "      <td>0</td>\n",
              "      <td>3</td>\n",
              "      <td>8</td>\n",
              "      <td>1530</td>\n",
              "      <td>0</td>\n",
              "      <td>2009</td>\n",
              "      <td>0</td>\n",
              "      <td>98103</td>\n",
              "      <td>47.6993</td>\n",
              "      <td>-122.346</td>\n",
              "      <td>1530</td>\n",
              "      <td>1509</td>\n",
              "    </tr>\n",
              "    <tr>\n",
              "      <th>21609</th>\n",
              "      <td>400000.0</td>\n",
              "      <td>4</td>\n",
              "      <td>2.50</td>\n",
              "      <td>2310</td>\n",
              "      <td>5813</td>\n",
              "      <td>2.0</td>\n",
              "      <td>0</td>\n",
              "      <td>0</td>\n",
              "      <td>3</td>\n",
              "      <td>8</td>\n",
              "      <td>2310</td>\n",
              "      <td>0</td>\n",
              "      <td>2014</td>\n",
              "      <td>0</td>\n",
              "      <td>98146</td>\n",
              "      <td>47.5107</td>\n",
              "      <td>-122.362</td>\n",
              "      <td>1830</td>\n",
              "      <td>7200</td>\n",
              "    </tr>\n",
              "    <tr>\n",
              "      <th>21610</th>\n",
              "      <td>402101.0</td>\n",
              "      <td>2</td>\n",
              "      <td>0.75</td>\n",
              "      <td>1020</td>\n",
              "      <td>1350</td>\n",
              "      <td>2.0</td>\n",
              "      <td>0</td>\n",
              "      <td>0</td>\n",
              "      <td>3</td>\n",
              "      <td>7</td>\n",
              "      <td>1020</td>\n",
              "      <td>0</td>\n",
              "      <td>2009</td>\n",
              "      <td>0</td>\n",
              "      <td>98144</td>\n",
              "      <td>47.5944</td>\n",
              "      <td>-122.299</td>\n",
              "      <td>1020</td>\n",
              "      <td>2007</td>\n",
              "    </tr>\n",
              "    <tr>\n",
              "      <th>21611</th>\n",
              "      <td>400000.0</td>\n",
              "      <td>3</td>\n",
              "      <td>2.50</td>\n",
              "      <td>1600</td>\n",
              "      <td>2388</td>\n",
              "      <td>2.0</td>\n",
              "      <td>0</td>\n",
              "      <td>0</td>\n",
              "      <td>3</td>\n",
              "      <td>8</td>\n",
              "      <td>1600</td>\n",
              "      <td>0</td>\n",
              "      <td>2004</td>\n",
              "      <td>0</td>\n",
              "      <td>98027</td>\n",
              "      <td>47.5345</td>\n",
              "      <td>-122.069</td>\n",
              "      <td>1410</td>\n",
              "      <td>1287</td>\n",
              "    </tr>\n",
              "    <tr>\n",
              "      <th>21612</th>\n",
              "      <td>325000.0</td>\n",
              "      <td>2</td>\n",
              "      <td>0.75</td>\n",
              "      <td>1020</td>\n",
              "      <td>1076</td>\n",
              "      <td>2.0</td>\n",
              "      <td>0</td>\n",
              "      <td>0</td>\n",
              "      <td>3</td>\n",
              "      <td>7</td>\n",
              "      <td>1020</td>\n",
              "      <td>0</td>\n",
              "      <td>2008</td>\n",
              "      <td>0</td>\n",
              "      <td>98144</td>\n",
              "      <td>47.5941</td>\n",
              "      <td>-122.299</td>\n",
              "      <td>1020</td>\n",
              "      <td>1357</td>\n",
              "    </tr>\n",
              "  </tbody>\n",
              "</table>\n",
              "</div>"
            ],
            "text/plain": [
              "          price  bedrooms  bathrooms  sqft_living  sqft_lot  floors  \\\n",
              "21608  360000.0         3       2.50         1530      1131     3.0   \n",
              "21609  400000.0         4       2.50         2310      5813     2.0   \n",
              "21610  402101.0         2       0.75         1020      1350     2.0   \n",
              "21611  400000.0         3       2.50         1600      2388     2.0   \n",
              "21612  325000.0         2       0.75         1020      1076     2.0   \n",
              "\n",
              "       waterfront  view  condition  grade  sqft_above  sqft_basement  \\\n",
              "21608           0     0          3      8        1530              0   \n",
              "21609           0     0          3      8        2310              0   \n",
              "21610           0     0          3      7        1020              0   \n",
              "21611           0     0          3      8        1600              0   \n",
              "21612           0     0          3      7        1020              0   \n",
              "\n",
              "       yr_built  yr_renovated  zipcode      lat     long  sqft_living15  \\\n",
              "21608      2009             0    98103  47.6993 -122.346           1530   \n",
              "21609      2014             0    98146  47.5107 -122.362           1830   \n",
              "21610      2009             0    98144  47.5944 -122.299           1020   \n",
              "21611      2004             0    98027  47.5345 -122.069           1410   \n",
              "21612      2008             0    98144  47.5941 -122.299           1020   \n",
              "\n",
              "       sqft_lot15  \n",
              "21608        1509  \n",
              "21609        7200  \n",
              "21610        2007  \n",
              "21611        1287  \n",
              "21612        1357  "
            ]
          },
          "execution_count": 4,
          "metadata": {},
          "output_type": "execute_result"
        }
      ],
      "source": [
        "df = pd.read_csv(\"data/house_data.csv\")\n",
        "# df = pd.read_csv(\"https://jrssbcrsefilesnait.blob.core.windows.net/3950data1/house_data.csv\")\n",
        "df.tail()"
      ]
    },
    {
      "cell_type": "code",
      "execution_count": 5,
      "metadata": {
        "id": "uLE617U8ZVRV",
        "outputId": "08d0318a-9c52-4e72-b585-ade094db2591"
      },
      "outputs": [
        {
          "name": "stdout",
          "output_type": "stream",
          "text": [
            "<class 'pandas.core.frame.DataFrame'>\n",
            "RangeIndex: 21613 entries, 0 to 21612\n",
            "Data columns (total 19 columns):\n",
            " #   Column         Non-Null Count  Dtype  \n",
            "---  ------         --------------  -----  \n",
            " 0   price          21613 non-null  float64\n",
            " 1   bedrooms       21613 non-null  int64  \n",
            " 2   bathrooms      21613 non-null  float64\n",
            " 3   sqft_living    21613 non-null  int64  \n",
            " 4   sqft_lot       21613 non-null  int64  \n",
            " 5   floors         21613 non-null  float64\n",
            " 6   waterfront     21613 non-null  int64  \n",
            " 7   view           21613 non-null  int64  \n",
            " 8   condition      21613 non-null  int64  \n",
            " 9   grade          21613 non-null  int64  \n",
            " 10  sqft_above     21613 non-null  int64  \n",
            " 11  sqft_basement  21613 non-null  int64  \n",
            " 12  yr_built       21613 non-null  int64  \n",
            " 13  yr_renovated   21613 non-null  int64  \n",
            " 14  zipcode        21613 non-null  int64  \n",
            " 15  lat            21613 non-null  float64\n",
            " 16  long           21613 non-null  float64\n",
            " 17  sqft_living15  21613 non-null  int64  \n",
            " 18  sqft_lot15     21613 non-null  int64  \n",
            "dtypes: float64(5), int64(14)\n",
            "memory usage: 3.1 MB\n"
          ]
        }
      ],
      "source": [
        "df.info()"
      ]
    },
    {
      "cell_type": "code",
      "execution_count": 6,
      "metadata": {
        "id": "ThkDxsnGZVRV",
        "outputId": "fef44a1a-6690-4bd7-b618-dd6261194d3f"
      },
      "outputs": [
        {
          "name": "stdout",
          "output_type": "stream",
          "text": [
            "(21613, 18) (21613, 1)\n"
          ]
        }
      ],
      "source": [
        "y = np.array(df[\"price\"]).reshape(-1,1)\n",
        "X = np.array(df.drop(columns={\"price\"}))\n",
        "print(X.shape, y.shape)\n",
        "X_train, X_test, y_train, y_test = train_test_split(X, y)"
      ]
    },
    {
      "attachments": {},
      "cell_type": "markdown",
      "metadata": {
        "id": "DY9JoSCXZVRW"
      },
      "source": [
        "## Create Model\n",
        "\n",
        "Creating a NN model is slightly different from the normal process that we are used to in sklearn. We need to do a little more work to set it up. \n",
        "\n",
        "### Create Model and Add Layers\n",
        "\n",
        "First we need to make a NN model, it comes \"empty\". We will use a sequential model, which is the most simple type but is less configurable (which we don't care about much right now). The limitation of sequential models is that they can only take in one tensor and only output one tensor. The other options here are \"functional\", which allows for the structure of the model to be configured, and \"model subclassing\", which allows you to build almost everything from scratch. These other types are more complex and more flexible, but actually aren't really needed for most applications, and we won't use them. These more complex models are commonly used for scenarios where the data is complex, such as a self driving car - a model needs to output steering as well as velocity. Also for more complex problems such as language or image processing, this flexibility allows for models to be created that are better able to extract the information from the data.\n",
        "\n",
        "#### Layers\n",
        "\n",
        "Next we need to add some layers. We will start simple with only two \"thinking\" layers, and one to do some processing. We can think of the layers roughly like steps of the sklearn pipeline, with data entering at the first layer and predictions flowing out of the final layer. \n",
        "\n",
        "In addition to \"normal\" neural network layers, there are many other types that can do all kinds of other stuff. One example we will use here is the normalization one at the front. This layer does exactly what you'd expect - it normalizes our data so the rest of the network can use it. The normalize layer will also automatically handle the 2D nature of the data that we are used to, so we don't need to worry about that aspect here. Other layers can do everything from regularization to image processing, they are also commonly inhierited for developers to create custom layers targeting specific tasks. We'll use a few of the other ones as we move through some more complex models.\n",
        "\n",
        "![Keras Layers](images/keras_layers.jpg \"Keras Layers\")\n",
        "\n",
        "#### Dense Layers\n",
        "\n",
        "We'll use dense layers here, and they are the main building block in our models. When adding the layer we need to specify a couple of things. One is the input dimensions - we need to tell the network what the shape of the incomming data is. \n",
        "\n",
        "The other argument is the units, which represents the output dimension. When using these Keras dense layers we don't need to specify each layer's input/output like we did when we made it by hand. We specify both, using units and input_dim, for the first layer that takes in the input; for subsequent layers we can just specify the output and Keras will automatically figure the rest out. \n",
        "\n",
        "Note that there is also an input layer that can be added, we can avoid the need for it by using the input_dim or input_shape as shown below. The two examples there do the same thing, since the input is flat - 18 features. If we are dealing with inputs that do not start out as flat, such as in an image, use the input_shape since you can specify all dimensions; we will see an example of this next time with some images. \n",
        "\n",
        "#### Activation Function\n",
        "\n",
        "For each of our layers we need to define which activation function to use. For now we will use the ReLU function, which is probably the most popular. We'll look at other ones later on. Note that we've left the activation function off of the final layer - we are doing regression so we want that raw value. This is the same idea as with linear regression - we don't want the prediction to be transformed through something like the sigmoid, we just want the number.\n",
        "\n",
        "#### Summary\n",
        "\n",
        "After we've constructed the model, the summary command give us, well, a summary. "
      ]
    },
    {
      "cell_type": "markdown",
      "metadata": {
        "id": "bIquYAGtZVRX"
      },
      "source": [
        "We are dealing with a bunch of numerical inputs here, so we can add a normalization layer at the front end. Like with sklearn, we want to fit the normalization to the training data only. "
      ]
    },
    {
      "cell_type": "code",
      "execution_count": 7,
      "metadata": {
        "id": "zWPhKP3wZVRX",
        "outputId": "4c6bc4d8-4a5f-4da7-edd8-7792b597b931"
      },
      "outputs": [
        {
          "name": "stdout",
          "output_type": "stream",
          "text": [
            "Model: \"sequential\"\n",
            "_________________________________________________________________\n",
            " Layer (type)                Output Shape              Param #   \n",
            "=================================================================\n",
            " normalization (Normalizatio  (None, 18)               37        \n",
            " n)                                                              \n",
            "                                                                 \n",
            " dense (Dense)               (None, 18)                342       \n",
            "                                                                 \n",
            " dense_1 (Dense)             (None, 1)                 19        \n",
            "                                                                 \n",
            "=================================================================\n",
            "Total params: 398\n",
            "Trainable params: 361\n",
            "Non-trainable params: 37\n",
            "_________________________________________________________________\n"
          ]
        }
      ],
      "source": [
        "normalizer = tf.keras.layers.Normalization(axis=-1)\n",
        "normalizer.adapt(np.array(X_train))\n",
        "\n",
        "model = Sequential()\n",
        "model.add(normalizer)\n",
        "model.add(Dense(18, input_shape=(18,), activation='relu'))\n",
        "model.add(Dense(1))\n",
        "model.summary()"
      ]
    },
    {
      "attachments": {},
      "cell_type": "markdown",
      "metadata": {
        "id": "B6AH5AydZVRY"
      },
      "source": [
        "#### Compile Model\n",
        "\n",
        "Once a model is created we need to compile it. The complie step basically builds the layers we specified above and the loss and optimization parameters below together into a usable model object. When compiling the model we are providing it with the things it needs to calculate error:\n",
        "\n",
        "<ul>\n",
        "<li> Loss - we can provide a loss function that we'd like to use. \n",
        "<li> Optimizer - the optimizer is the algorithm that the model will use to perform the gradient descent to find the lowest error. Adam is a very common choice.\n",
        "<li> Learning rate - the learning rate is provided as a parameter of the optimizer. \n",
        "</ul>\n",
        "\n",
        "##### Optimizing Adam\n",
        "\n",
        "The optimizer is the algorithm used to perform the gradient descent and minimize error. For the most part this isn't something we need to be concerned about. The choice of optimizer is much more important if dealing with very large datasets because different optimizers have different levels of efficiency. For our purposes, we can use Adam and be pretty happy. Adam stands for Adaptive Moment Estimation which means basically that it will adjust itself depending on current gradients. It tends to be efficient both in time and memory, so it is very commonly used. \n",
        "\n",
        "<b>Note:</b> it is pretty common in tensorflow and keras to have things like the example below, where we can specify \"adam\" with either the name, or the full class with arguments. These different ways of doing things are generally interchangable, but it does make documentation more confusing, as the two different ways may often be interchanged. "
      ]
    },
    {
      "cell_type": "code",
      "execution_count": 8,
      "metadata": {
        "id": "fEya_QckZVRY"
      },
      "outputs": [],
      "source": [
        "#model.compile(loss='mean_absolute_error', optimizer=\"adam\")\n",
        "model.compile(loss='mean_absolute_error', optimizer=tf.optimizers.Adam(learning_rate=.01))"
      ]
    },
    {
      "attachments": {},
      "cell_type": "markdown",
      "metadata": {
        "id": "n9TUG422ZVRZ"
      },
      "source": [
        "### Fit the Model\n",
        "\n",
        "The fit command does the same thing that we are used to, it trains the model, however there are some differences. The main difference is that batch_size is almost always set in neural networks, while the sklearn models just take all the data at once. \n",
        "\n",
        "What's a batch? Batches are just subsets of the data, so if the batch size is 100 the algorithm will grab 100 rows at a time before making an update to the weights and bias. There are a few reasons this exists:\n",
        "\n",
        "<ul>\n",
        "<li> Memory constraints - it is common with neural networks to deal with datasets that are extremely large. Processing data that can't fit entirely in RAM is very slow (the computer must swap data from the hard drive to RAM as it is needed) compared to data that is in RAM. Cutting the batch size can avoid this issue. \n",
        "<li> Speed - the math involved in the back propagation can sometimes be very computationally intensive. \n",
        "<li> Accuracy - batch size can have an impact on accuracy, though that impact is not very predictable. For the most part finding an optimal batch size will need to be grid-searched. \n",
        "</ul>\n",
        "\n",
        "The fit command also has the epoch paramater, which instructs on how many times to work through ALL of the data. We want to ensure we have enough epochs to find the optimal solution. Training rounds, or epochs, are one of the key tuning factors when using neural networks. Similar to large trees, large neural networks are capable of learning the training data very well, and carry the same risk of overfitting. With neural networks, a common approach to tuning is to allow the model to train, and cut it off when we start overfitting, or when the testing accuracy starts to decrease.\n",
        "\n",
        "#### Plot the Loss\n",
        "\n",
        "One very common visualization we see with neural networks is a plot of both training and validation loss vs number of epochs. Generally we'll see the training loss drop - first sharply as the model initially fits itself, then more slowly as it becomes more fitted. The validation loss will usually somewhat mirror the training loss, except it will often reach a minimum at some point before again increasing. This minimum point is our best model, when the validation loss starts increasing again, that is a sign that the model has become overfitted - customized to the training data, but less and less generalizable to new data. \n",
        "\n",
        "Set the verbosity to 1 in the fit to get a full list of the loss for each epoch to pinpoint the exact \"ideal\" number of epochs. We'll look more at this in a minute. "
      ]
    },
    {
      "cell_type": "code",
      "execution_count": 9,
      "metadata": {
        "id": "bDUXMj_pZVRZ",
        "outputId": "6facd69a-6643-4845-da6f-94199649ac5b"
      },
      "outputs": [
        {
          "name": "stdout",
          "output_type": "stream",
          "text": [
            "Epoch 1/100\n",
            "130/130 [==============================] - 2s 4ms/step - loss: 541964.1875 - val_loss: 545898.3125\n",
            "Epoch 2/100\n",
            "130/130 [==============================] - 0s 3ms/step - loss: 541578.6250 - val_loss: 545274.3125\n",
            "Epoch 3/100\n",
            "130/130 [==============================] - 0s 3ms/step - loss: 540728.5625 - val_loss: 544193.0000\n",
            "Epoch 4/100\n",
            "130/130 [==============================] - 0s 3ms/step - loss: 539437.5625 - val_loss: 542684.1875\n",
            "Epoch 5/100\n",
            "130/130 [==============================] - 0s 3ms/step - loss: 537729.8750 - val_loss: 540766.6250\n",
            "Epoch 6/100\n",
            "130/130 [==============================] - 0s 2ms/step - loss: 535626.3125 - val_loss: 538460.8125\n",
            "Epoch 7/100\n",
            "130/130 [==============================] - 0s 3ms/step - loss: 533144.1250 - val_loss: 535784.1250\n",
            "Epoch 8/100\n",
            "130/130 [==============================] - 0s 3ms/step - loss: 530302.0000 - val_loss: 532763.3125\n",
            "Epoch 9/100\n",
            "130/130 [==============================] - 0s 3ms/step - loss: 527116.3750 - val_loss: 529399.3750\n",
            "Epoch 10/100\n",
            "130/130 [==============================] - 0s 3ms/step - loss: 523600.7188 - val_loss: 525714.0625\n",
            "Epoch 11/100\n",
            "130/130 [==============================] - 0s 2ms/step - loss: 519770.7812 - val_loss: 521716.0625\n",
            "Epoch 12/100\n",
            "130/130 [==============================] - 0s 2ms/step - loss: 515630.9375 - val_loss: 517410.2188\n",
            "Epoch 13/100\n",
            "130/130 [==============================] - 0s 3ms/step - loss: 511196.3125 - val_loss: 512822.6875\n",
            "Epoch 14/100\n",
            "130/130 [==============================] - 0s 2ms/step - loss: 506479.3125 - val_loss: 507942.8750\n",
            "Epoch 15/100\n",
            "130/130 [==============================] - 0s 3ms/step - loss: 501486.0625 - val_loss: 502814.6875\n",
            "Epoch 16/100\n",
            "130/130 [==============================] - 0s 2ms/step - loss: 496230.3125 - val_loss: 497404.5000\n",
            "Epoch 17/100\n",
            "130/130 [==============================] - 0s 3ms/step - loss: 490713.3125 - val_loss: 491742.4375\n",
            "Epoch 18/100\n",
            "130/130 [==============================] - 0s 2ms/step - loss: 484945.0625 - val_loss: 485829.8438\n",
            "Epoch 19/100\n",
            "130/130 [==============================] - 0s 2ms/step - loss: 478929.2188 - val_loss: 479680.1250\n",
            "Epoch 20/100\n",
            "130/130 [==============================] - 0s 2ms/step - loss: 472677.4688 - val_loss: 473298.4062\n",
            "Epoch 21/100\n",
            "130/130 [==============================] - 0s 2ms/step - loss: 466194.5000 - val_loss: 466670.7500\n",
            "Epoch 22/100\n",
            "130/130 [==============================] - 0s 3ms/step - loss: 459481.2188 - val_loss: 459837.0000\n",
            "Epoch 23/100\n",
            "130/130 [==============================] - 0s 3ms/step - loss: 452567.5000 - val_loss: 452785.9062\n",
            "Epoch 24/100\n",
            "130/130 [==============================] - 0s 3ms/step - loss: 445457.4375 - val_loss: 445550.6250\n",
            "Epoch 25/100\n",
            "130/130 [==============================] - 0s 3ms/step - loss: 438152.7500 - val_loss: 438106.8438\n",
            "Epoch 26/100\n",
            "130/130 [==============================] - 0s 3ms/step - loss: 430664.0625 - val_loss: 430495.4375\n",
            "Epoch 27/100\n",
            "130/130 [==============================] - 0s 3ms/step - loss: 422987.8438 - val_loss: 422722.8750\n",
            "Epoch 28/100\n",
            "130/130 [==============================] - 0s 3ms/step - loss: 415175.7812 - val_loss: 414773.8438\n",
            "Epoch 29/100\n",
            "130/130 [==============================] - 0s 3ms/step - loss: 407268.0938 - val_loss: 406742.7500\n",
            "Epoch 30/100\n",
            "130/130 [==============================] - 0s 3ms/step - loss: 399277.7812 - val_loss: 398599.4688\n",
            "Epoch 31/100\n",
            "130/130 [==============================] - 0s 3ms/step - loss: 391262.5625 - val_loss: 390397.5938\n",
            "Epoch 32/100\n",
            "130/130 [==============================] - 0s 2ms/step - loss: 383210.9062 - val_loss: 382157.5938\n",
            "Epoch 33/100\n",
            "130/130 [==============================] - 0s 2ms/step - loss: 375147.2500 - val_loss: 374010.4688\n",
            "Epoch 34/100\n",
            "130/130 [==============================] - 0s 2ms/step - loss: 367108.2500 - val_loss: 365974.9375\n",
            "Epoch 35/100\n",
            "130/130 [==============================] - 0s 2ms/step - loss: 359144.6562 - val_loss: 358222.3750\n",
            "Epoch 36/100\n",
            "130/130 [==============================] - 0s 2ms/step - loss: 351351.2188 - val_loss: 350696.0312\n",
            "Epoch 37/100\n",
            "130/130 [==============================] - 0s 2ms/step - loss: 343803.4688 - val_loss: 343451.3125\n",
            "Epoch 38/100\n",
            "130/130 [==============================] - 0s 2ms/step - loss: 336545.2188 - val_loss: 336471.5312\n",
            "Epoch 39/100\n",
            "130/130 [==============================] - 0s 2ms/step - loss: 329632.7812 - val_loss: 329710.4062\n",
            "Epoch 40/100\n",
            "130/130 [==============================] - 0s 2ms/step - loss: 323063.2188 - val_loss: 323209.4062\n",
            "Epoch 41/100\n",
            "130/130 [==============================] - 0s 2ms/step - loss: 316804.2188 - val_loss: 316991.2812\n",
            "Epoch 42/100\n",
            "130/130 [==============================] - 0s 2ms/step - loss: 310798.5625 - val_loss: 311078.3125\n",
            "Epoch 43/100\n",
            "130/130 [==============================] - 0s 3ms/step - loss: 305027.8125 - val_loss: 305384.5625\n",
            "Epoch 44/100\n",
            "130/130 [==============================] - 0s 2ms/step - loss: 299540.6875 - val_loss: 299959.9062\n",
            "Epoch 45/100\n",
            "130/130 [==============================] - 0s 2ms/step - loss: 294237.6875 - val_loss: 294729.6562\n",
            "Epoch 46/100\n",
            "130/130 [==============================] - 0s 2ms/step - loss: 289130.5000 - val_loss: 289775.2188\n",
            "Epoch 47/100\n",
            "130/130 [==============================] - 0s 2ms/step - loss: 284264.7812 - val_loss: 285128.6875\n",
            "Epoch 48/100\n",
            "130/130 [==============================] - 0s 2ms/step - loss: 279718.9688 - val_loss: 280729.5312\n",
            "Epoch 49/100\n",
            "130/130 [==============================] - 0s 2ms/step - loss: 275509.3438 - val_loss: 276588.7500\n",
            "Epoch 50/100\n",
            "130/130 [==============================] - 0s 2ms/step - loss: 271611.3750 - val_loss: 272808.2812\n",
            "Epoch 51/100\n",
            "130/130 [==============================] - 0s 2ms/step - loss: 268014.3750 - val_loss: 269285.8125\n",
            "Epoch 52/100\n",
            "130/130 [==============================] - 0s 2ms/step - loss: 264653.1562 - val_loss: 265970.1562\n",
            "Epoch 53/100\n",
            "130/130 [==============================] - 0s 3ms/step - loss: 261502.3750 - val_loss: 262903.6250\n",
            "Epoch 54/100\n",
            "130/130 [==============================] - 0s 2ms/step - loss: 258565.7031 - val_loss: 260058.1719\n",
            "Epoch 55/100\n",
            "130/130 [==============================] - 0s 2ms/step - loss: 255832.7188 - val_loss: 257410.5469\n",
            "Epoch 56/100\n",
            "130/130 [==============================] - 0s 2ms/step - loss: 253265.6094 - val_loss: 254919.9531\n",
            "Epoch 57/100\n",
            "130/130 [==============================] - 0s 2ms/step - loss: 250822.2656 - val_loss: 252577.7188\n",
            "Epoch 58/100\n",
            "130/130 [==============================] - 0s 2ms/step - loss: 248488.1406 - val_loss: 250335.1875\n",
            "Epoch 59/100\n",
            "130/130 [==============================] - 0s 2ms/step - loss: 246277.7500 - val_loss: 248209.5625\n",
            "Epoch 60/100\n",
            "130/130 [==============================] - 0s 2ms/step - loss: 244150.4844 - val_loss: 246185.2969\n",
            "Epoch 61/100\n",
            "130/130 [==============================] - 0s 3ms/step - loss: 242065.9375 - val_loss: 244270.0938\n",
            "Epoch 62/100\n",
            "130/130 [==============================] - 0s 2ms/step - loss: 240063.8125 - val_loss: 242446.1719\n",
            "Epoch 63/100\n",
            "130/130 [==============================] - 0s 2ms/step - loss: 238161.6875 - val_loss: 240693.2656\n",
            "Epoch 64/100\n",
            "130/130 [==============================] - 0s 3ms/step - loss: 236331.7031 - val_loss: 238963.1875\n",
            "Epoch 65/100\n",
            "130/130 [==============================] - 0s 3ms/step - loss: 234546.8906 - val_loss: 237263.2188\n",
            "Epoch 66/100\n",
            "130/130 [==============================] - 0s 3ms/step - loss: 232810.4688 - val_loss: 235610.1250\n",
            "Epoch 67/100\n",
            "130/130 [==============================] - 0s 2ms/step - loss: 231115.7188 - val_loss: 234005.6719\n",
            "Epoch 68/100\n",
            "130/130 [==============================] - 0s 3ms/step - loss: 229456.2656 - val_loss: 232422.2656\n",
            "Epoch 69/100\n",
            "130/130 [==============================] - 0s 2ms/step - loss: 227833.1094 - val_loss: 230864.7188\n",
            "Epoch 70/100\n",
            "130/130 [==============================] - 0s 2ms/step - loss: 226243.1094 - val_loss: 229318.3125\n",
            "Epoch 71/100\n",
            "130/130 [==============================] - 0s 2ms/step - loss: 224687.6250 - val_loss: 227791.0469\n",
            "Epoch 72/100\n",
            "130/130 [==============================] - 0s 2ms/step - loss: 223167.5156 - val_loss: 226296.5625\n",
            "Epoch 73/100\n",
            "130/130 [==============================] - 0s 2ms/step - loss: 221669.1562 - val_loss: 224784.8750\n",
            "Epoch 74/100\n",
            "130/130 [==============================] - 0s 2ms/step - loss: 220193.9219 - val_loss: 223289.0312\n",
            "Epoch 75/100\n",
            "130/130 [==============================] - 0s 2ms/step - loss: 218726.2500 - val_loss: 221794.5000\n",
            "Epoch 76/100\n",
            "130/130 [==============================] - 0s 2ms/step - loss: 217259.4688 - val_loss: 220324.1094\n",
            "Epoch 77/100\n",
            "130/130 [==============================] - 0s 2ms/step - loss: 215806.9219 - val_loss: 218832.5156\n",
            "Epoch 78/100\n",
            "130/130 [==============================] - 0s 2ms/step - loss: 214359.2656 - val_loss: 217371.4531\n",
            "Epoch 79/100\n",
            "130/130 [==============================] - 0s 2ms/step - loss: 212942.6406 - val_loss: 215916.7969\n",
            "Epoch 80/100\n",
            "130/130 [==============================] - 0s 2ms/step - loss: 211543.0781 - val_loss: 214477.7188\n",
            "Epoch 81/100\n",
            "130/130 [==============================] - 0s 3ms/step - loss: 210164.7656 - val_loss: 213051.7188\n",
            "Epoch 82/100\n",
            "130/130 [==============================] - 0s 2ms/step - loss: 208819.2812 - val_loss: 211639.9688\n",
            "Epoch 83/100\n",
            "130/130 [==============================] - 0s 2ms/step - loss: 207499.7344 - val_loss: 210235.2031\n",
            "Epoch 84/100\n",
            "130/130 [==============================] - 0s 2ms/step - loss: 206196.1250 - val_loss: 208862.5000\n",
            "Epoch 85/100\n",
            "130/130 [==============================] - 0s 2ms/step - loss: 204905.6094 - val_loss: 207490.7969\n",
            "Epoch 86/100\n",
            "130/130 [==============================] - 0s 2ms/step - loss: 203632.7344 - val_loss: 206142.4062\n",
            "Epoch 87/100\n",
            "130/130 [==============================] - 0s 2ms/step - loss: 202376.5625 - val_loss: 204820.8594\n",
            "Epoch 88/100\n",
            "130/130 [==============================] - 0s 2ms/step - loss: 201151.8750 - val_loss: 203537.0156\n",
            "Epoch 89/100\n",
            "130/130 [==============================] - 0s 2ms/step - loss: 199939.6875 - val_loss: 202268.5312\n",
            "Epoch 90/100\n",
            "130/130 [==============================] - 0s 2ms/step - loss: 198728.8281 - val_loss: 200988.3125\n",
            "Epoch 91/100\n",
            "130/130 [==============================] - 0s 2ms/step - loss: 197524.4375 - val_loss: 199745.3281\n",
            "Epoch 92/100\n",
            "130/130 [==============================] - 0s 2ms/step - loss: 196354.1250 - val_loss: 198518.8438\n",
            "Epoch 93/100\n",
            "130/130 [==============================] - 0s 2ms/step - loss: 195221.3125 - val_loss: 197324.3125\n",
            "Epoch 94/100\n",
            "130/130 [==============================] - 0s 2ms/step - loss: 194111.8906 - val_loss: 196150.6406\n",
            "Epoch 95/100\n",
            "130/130 [==============================] - 0s 2ms/step - loss: 193019.2656 - val_loss: 195012.8125\n",
            "Epoch 96/100\n",
            "130/130 [==============================] - 0s 2ms/step - loss: 191966.2969 - val_loss: 193895.2188\n",
            "Epoch 97/100\n",
            "130/130 [==============================] - 0s 2ms/step - loss: 190932.7500 - val_loss: 192799.7969\n",
            "Epoch 98/100\n",
            "130/130 [==============================] - 0s 2ms/step - loss: 189926.5312 - val_loss: 191729.9062\n",
            "Epoch 99/100\n",
            "130/130 [==============================] - 0s 3ms/step - loss: 188941.7188 - val_loss: 190677.7812\n",
            "Epoch 100/100\n",
            "130/130 [==============================] - 0s 3ms/step - loss: 187977.5156 - val_loss: 189641.5312\n",
            "169/169 [==============================] - 0s 1ms/step - loss: 186515.5469\n"
          ]
        },
        {
          "data": {
            "image/png": "[encoded data removed]",
            "text/plain": [
              "<Figure size 640x480 with 1 Axes>"
            ]
          },
          "metadata": {},
          "output_type": "display_data"
        }
      ],
      "source": [
        "train_log = model.fit(X_train, y_train, epochs=BASE_EPOCHS, batch_size=BASE_EPOCHS, validation_split=.2, verbose=1)\n",
        "model.evaluate(X_test, y_test)\n",
        "plot_loss(train_log)"
      ]
    },
    {
      "cell_type": "markdown",
      "metadata": {
        "id": "o3vc6DpiZVRZ"
      },
      "source": [
        "### Exercise\n",
        "\n",
        "Make a simple neural network for predicting the price of homes in California. "
      ]
    },
    {
      "cell_type": "code",
      "execution_count": 10,
      "metadata": {
        "id": "ZqmBczcMZVRZ",
        "outputId": "da98e1e8-4f49-4a0b-ee35-34c696f10dca"
      },
      "outputs": [
        {
          "data": {
            "text/html": [
              "<div>\n",
              "<style scoped>\n",
              "    .dataframe tbody tr th:only-of-type {\n",
              "        vertical-align: middle;\n",
              "    }\n",
              "\n",
              "    .dataframe tbody tr th {\n",
              "        vertical-align: top;\n",
              "    }\n",
              "\n",
              "    .dataframe thead th {\n",
              "        text-align: right;\n",
              "    }\n",
              "</style>\n",
              "<table border=\"1\" class=\"dataframe\">\n",
              "  <thead>\n",
              "    <tr style=\"text-align: right;\">\n",
              "      <th></th>\n",
              "      <th>MedInc</th>\n",
              "      <th>HouseAge</th>\n",
              "      <th>AveRooms</th>\n",
              "      <th>AveBedrms</th>\n",
              "      <th>Population</th>\n",
              "      <th>AveOccup</th>\n",
              "      <th>Latitude</th>\n",
              "      <th>Longitude</th>\n",
              "    </tr>\n",
              "  </thead>\n",
              "  <tbody>\n",
              "    <tr>\n",
              "      <th>0</th>\n",
              "      <td>8.3252</td>\n",
              "      <td>41.0</td>\n",
              "      <td>6.984127</td>\n",
              "      <td>1.023810</td>\n",
              "      <td>322.0</td>\n",
              "      <td>2.555556</td>\n",
              "      <td>37.88</td>\n",
              "      <td>-122.23</td>\n",
              "    </tr>\n",
              "    <tr>\n",
              "      <th>1</th>\n",
              "      <td>8.3014</td>\n",
              "      <td>21.0</td>\n",
              "      <td>6.238137</td>\n",
              "      <td>0.971880</td>\n",
              "      <td>2401.0</td>\n",
              "      <td>2.109842</td>\n",
              "      <td>37.86</td>\n",
              "      <td>-122.22</td>\n",
              "    </tr>\n",
              "    <tr>\n",
              "      <th>2</th>\n",
              "      <td>7.2574</td>\n",
              "      <td>52.0</td>\n",
              "      <td>8.288136</td>\n",
              "      <td>1.073446</td>\n",
              "      <td>496.0</td>\n",
              "      <td>2.802260</td>\n",
              "      <td>37.85</td>\n",
              "      <td>-122.24</td>\n",
              "    </tr>\n",
              "    <tr>\n",
              "      <th>3</th>\n",
              "      <td>5.6431</td>\n",
              "      <td>52.0</td>\n",
              "      <td>5.817352</td>\n",
              "      <td>1.073059</td>\n",
              "      <td>558.0</td>\n",
              "      <td>2.547945</td>\n",
              "      <td>37.85</td>\n",
              "      <td>-122.25</td>\n",
              "    </tr>\n",
              "    <tr>\n",
              "      <th>4</th>\n",
              "      <td>3.8462</td>\n",
              "      <td>52.0</td>\n",
              "      <td>6.281853</td>\n",
              "      <td>1.081081</td>\n",
              "      <td>565.0</td>\n",
              "      <td>2.181467</td>\n",
              "      <td>37.85</td>\n",
              "      <td>-122.25</td>\n",
              "    </tr>\n",
              "  </tbody>\n",
              "</table>\n",
              "</div>"
            ],
            "text/plain": [
              "   MedInc  HouseAge  AveRooms  AveBedrms  Population  AveOccup  Latitude  \\\n",
              "0  8.3252      41.0  6.984127   1.023810       322.0  2.555556     37.88   \n",
              "1  8.3014      21.0  6.238137   0.971880      2401.0  2.109842     37.86   \n",
              "2  7.2574      52.0  8.288136   1.073446       496.0  2.802260     37.85   \n",
              "3  5.6431      52.0  5.817352   1.073059       558.0  2.547945     37.85   \n",
              "4  3.8462      52.0  6.281853   1.081081       565.0  2.181467     37.85   \n",
              "\n",
              "   Longitude  \n",
              "0    -122.23  \n",
              "1    -122.22  \n",
              "2    -122.24  \n",
              "3    -122.25  \n",
              "4    -122.25  "
            ]
          },
          "execution_count": 10,
          "metadata": {},
          "output_type": "execute_result"
        }
      ],
      "source": [
        "from sklearn.datasets import fetch_california_housing\n",
        "\n",
        "cal = fetch_california_housing(as_frame=True)\n",
        "Xcal = pd.DataFrame(cal.data)\n",
        "ycal = pd.DataFrame(cal.target)\n",
        "Xcal.head()"
      ]
    },
    {
      "cell_type": "code",
      "execution_count": 11,
      "metadata": {},
      "outputs": [
        {
          "data": {
            "text/html": [
              "<div>\n",
              "<style scoped>\n",
              "    .dataframe tbody tr th:only-of-type {\n",
              "        vertical-align: middle;\n",
              "    }\n",
              "\n",
              "    .dataframe tbody tr th {\n",
              "        vertical-align: top;\n",
              "    }\n",
              "\n",
              "    .dataframe thead th {\n",
              "        text-align: right;\n",
              "    }\n",
              "</style>\n",
              "<table border=\"1\" class=\"dataframe\">\n",
              "  <thead>\n",
              "    <tr style=\"text-align: right;\">\n",
              "      <th></th>\n",
              "      <th>MedHouseVal</th>\n",
              "    </tr>\n",
              "  </thead>\n",
              "  <tbody>\n",
              "    <tr>\n",
              "      <th>0</th>\n",
              "      <td>4.526</td>\n",
              "    </tr>\n",
              "    <tr>\n",
              "      <th>1</th>\n",
              "      <td>3.585</td>\n",
              "    </tr>\n",
              "    <tr>\n",
              "      <th>2</th>\n",
              "      <td>3.521</td>\n",
              "    </tr>\n",
              "    <tr>\n",
              "      <th>3</th>\n",
              "      <td>3.413</td>\n",
              "    </tr>\n",
              "    <tr>\n",
              "      <th>4</th>\n",
              "      <td>3.422</td>\n",
              "    </tr>\n",
              "  </tbody>\n",
              "</table>\n",
              "</div>"
            ],
            "text/plain": [
              "   MedHouseVal\n",
              "0        4.526\n",
              "1        3.585\n",
              "2        3.521\n",
              "3        3.413\n",
              "4        3.422"
            ]
          },
          "execution_count": 11,
          "metadata": {},
          "output_type": "execute_result"
        }
      ],
      "source": [
        "ycal.head()"
      ]
    },
    {
      "cell_type": "code",
      "execution_count": 12,
      "metadata": {
        "id": "8TxqgdHUZVRa",
        "outputId": "f29561ee-1d8f-4b8a-f19f-b28371799e23"
      },
      "outputs": [
        {
          "name": "stdout",
          "output_type": "stream",
          "text": [
            "Model: \"sequential_1\"\n",
            "_________________________________________________________________\n",
            " Layer (type)                Output Shape              Param #   \n",
            "=================================================================\n",
            " normalization_1 (Normalizat  (None, 8)                17        \n",
            " ion)                                                            \n",
            "                                                                 \n",
            " dense_2 (Dense)             (None, 8)                 72        \n",
            "                                                                 \n",
            " dense_3 (Dense)             (None, 4)                 36        \n",
            "                                                                 \n",
            " dense_4 (Dense)             (None, 1)                 5         \n",
            "                                                                 \n",
            "=================================================================\n",
            "Total params: 130\n",
            "Trainable params: 113\n",
            "Non-trainable params: 17\n",
            "_________________________________________________________________\n"
          ]
        }
      ],
      "source": [
        "# Model. Or whatevs. \n",
        "cal_norm = tf.keras.layers.Normalization(axis=-1)\n",
        "cal_norm.adapt(np.array(Xcal))\n",
        "\n",
        "cal_mod = Sequential()\n",
        "cal_mod.add(cal_norm)\n",
        "cal_mod.add(Dense(8, input_shape=(8,), activation=\"relu\"))\n",
        "cal_mod.add(Dense(4, activation=\"relu\"))\n",
        "cal_mod.add(Dense(1))\n",
        "cal_mod.summary()"
      ]
    },
    {
      "cell_type": "code",
      "execution_count": 13,
      "metadata": {},
      "outputs": [
        {
          "name": "stdout",
          "output_type": "stream",
          "text": [
            "Epoch 1/50\n",
            "310/310 [==============================] - 1s 3ms/step - loss: 3.0246 - val_loss: 2.5387\n",
            "Epoch 2/50\n",
            "310/310 [==============================] - 1s 3ms/step - loss: 0.8456 - val_loss: 1.2527\n",
            "Epoch 3/50\n",
            "310/310 [==============================] - 1s 3ms/step - loss: 0.6345 - val_loss: 0.9352\n",
            "Epoch 4/50\n",
            "310/310 [==============================] - 1s 3ms/step - loss: 0.5593 - val_loss: 0.8234\n",
            "Epoch 5/50\n",
            "310/310 [==============================] - 1s 3ms/step - loss: 0.5084 - val_loss: 0.6973\n",
            "Epoch 6/50\n",
            "310/310 [==============================] - 1s 3ms/step - loss: 0.4688 - val_loss: 0.6409\n",
            "Epoch 7/50\n",
            "310/310 [==============================] - 1s 3ms/step - loss: 0.4366 - val_loss: 0.6205\n",
            "Epoch 8/50\n",
            "310/310 [==============================] - 1s 3ms/step - loss: 0.4141 - val_loss: 0.5859\n",
            "Epoch 9/50\n",
            "310/310 [==============================] - 1s 3ms/step - loss: 0.3952 - val_loss: 0.5728\n",
            "Epoch 10/50\n",
            "310/310 [==============================] - 1s 3ms/step - loss: 0.3833 - val_loss: 0.5600\n",
            "Epoch 11/50\n",
            "310/310 [==============================] - 1s 3ms/step - loss: 0.3735 - val_loss: 0.5341\n",
            "Epoch 12/50\n",
            "310/310 [==============================] - 1s 2ms/step - loss: 0.3657 - val_loss: 0.5623\n",
            "Epoch 13/50\n",
            "310/310 [==============================] - 1s 3ms/step - loss: 0.3578 - val_loss: 0.5296\n",
            "Epoch 14/50\n",
            "310/310 [==============================] - 1s 2ms/step - loss: 0.3524 - val_loss: 0.5809\n",
            "Epoch 15/50\n",
            "310/310 [==============================] - 1s 2ms/step - loss: 0.3467 - val_loss: 0.5924\n",
            "Epoch 16/50\n",
            "310/310 [==============================] - 1s 3ms/step - loss: 0.3424 - val_loss: 0.5707\n",
            "Epoch 17/50\n",
            "310/310 [==============================] - 1s 3ms/step - loss: 0.3395 - val_loss: 0.5727\n",
            "Epoch 18/50\n",
            "310/310 [==============================] - 1s 3ms/step - loss: 0.3368 - val_loss: 0.5863\n",
            "Epoch 19/50\n",
            "310/310 [==============================] - 1s 3ms/step - loss: 0.3316 - val_loss: 0.5537\n",
            "Epoch 20/50\n",
            "310/310 [==============================] - 1s 2ms/step - loss: 0.3292 - val_loss: 0.5994\n",
            "Epoch 21/50\n",
            "310/310 [==============================] - 1s 3ms/step - loss: 0.3264 - val_loss: 0.5870\n",
            "Epoch 22/50\n",
            "310/310 [==============================] - 1s 2ms/step - loss: 0.3245 - val_loss: 0.5904\n",
            "Epoch 23/50\n",
            "310/310 [==============================] - 1s 2ms/step - loss: 0.3216 - val_loss: 0.5914\n",
            "Epoch 24/50\n",
            "310/310 [==============================] - 1s 3ms/step - loss: 0.3207 - val_loss: 0.6377\n",
            "Epoch 25/50\n",
            "310/310 [==============================] - 1s 2ms/step - loss: 0.3175 - val_loss: 0.5920\n",
            "Epoch 26/50\n",
            "310/310 [==============================] - 1s 2ms/step - loss: 0.3149 - val_loss: 0.6021\n",
            "Epoch 27/50\n",
            "310/310 [==============================] - 1s 3ms/step - loss: 0.3144 - val_loss: 0.6304\n",
            "Epoch 28/50\n",
            "310/310 [==============================] - 1s 3ms/step - loss: 0.3122 - val_loss: 0.6121\n",
            "Epoch 29/50\n",
            "310/310 [==============================] - 1s 3ms/step - loss: 0.3093 - val_loss: 0.5965\n",
            "Epoch 30/50\n",
            "310/310 [==============================] - 1s 3ms/step - loss: 0.3078 - val_loss: 0.5974\n",
            "Epoch 31/50\n",
            "310/310 [==============================] - 1s 3ms/step - loss: 0.3076 - val_loss: 0.6309\n",
            "Epoch 32/50\n",
            "310/310 [==============================] - 1s 3ms/step - loss: 0.3057 - val_loss: 0.5920\n",
            "Epoch 33/50\n",
            "310/310 [==============================] - 1s 3ms/step - loss: 0.3042 - val_loss: 0.6715\n",
            "Epoch 34/50\n",
            "310/310 [==============================] - 1s 3ms/step - loss: 0.3029 - val_loss: 0.6132\n",
            "Epoch 35/50\n",
            "310/310 [==============================] - 1s 3ms/step - loss: 0.3031 - val_loss: 0.5931\n",
            "Epoch 36/50\n",
            "310/310 [==============================] - 1s 3ms/step - loss: 0.3004 - val_loss: 0.6334\n",
            "Epoch 37/50\n",
            "310/310 [==============================] - 1s 4ms/step - loss: 0.3015 - val_loss: 0.6460\n",
            "Epoch 38/50\n",
            "310/310 [==============================] - 1s 3ms/step - loss: 0.2988 - val_loss: 0.6295\n",
            "Epoch 39/50\n",
            "310/310 [==============================] - 1s 3ms/step - loss: 0.2985 - val_loss: 0.6606\n",
            "Epoch 40/50\n",
            "310/310 [==============================] - 1s 3ms/step - loss: 0.2967 - val_loss: 0.6894\n",
            "Epoch 41/50\n",
            "310/310 [==============================] - 1s 3ms/step - loss: 0.2979 - val_loss: 0.6210\n",
            "Epoch 42/50\n",
            "310/310 [==============================] - 1s 3ms/step - loss: 0.2954 - val_loss: 0.6313\n",
            "Epoch 43/50\n",
            "310/310 [==============================] - 1s 3ms/step - loss: 0.2958 - val_loss: 0.6340\n",
            "Epoch 44/50\n",
            "310/310 [==============================] - 1s 3ms/step - loss: 0.2992 - val_loss: 0.6528\n",
            "Epoch 45/50\n",
            "310/310 [==============================] - 1s 3ms/step - loss: 0.2940 - val_loss: 0.6541\n",
            "Epoch 46/50\n",
            "310/310 [==============================] - 1s 3ms/step - loss: 0.2936 - val_loss: 0.6529\n",
            "Epoch 47/50\n",
            "310/310 [==============================] - 1s 3ms/step - loss: 0.2940 - val_loss: 0.6408\n",
            "Epoch 48/50\n",
            "310/310 [==============================] - 1s 3ms/step - loss: 0.2927 - val_loss: 0.6649\n",
            "Epoch 49/50\n",
            "310/310 [==============================] - 1s 3ms/step - loss: 0.2926 - val_loss: 0.6565\n",
            "Epoch 50/50\n",
            "310/310 [==============================] - 1s 3ms/step - loss: 0.2926 - val_loss: 0.6347\n"
          ]
        },
        {
          "data": {
            "image/png": "[encoded data removed]",
            "text/plain": [
              "<Figure size 640x480 with 1 Axes>"
            ]
          },
          "metadata": {},
          "output_type": "display_data"
        }
      ],
      "source": [
        "cal_mod.compile(loss=\"mean_squared_error\", optimizer=\"adam\")\n",
        "cal_log = cal_mod.fit(Xcal, ycal, epochs=50, batch_size=50, validation_split=.25, verbose=1)\n",
        "plot_loss(cal_log)"
      ]
    },
    {
      "attachments": {},
      "cell_type": "markdown",
      "metadata": {
        "id": "oUfNO6HeZVRb"
      },
      "source": [
        "## Basics of Overfitting and Underfitting in Neural Networks\n",
        "\n",
        "Just like any other type of model, our primary task in trying to attain an accurate set of predictions is to balance the overfitting and underfitting. In a neural network, the ideas are the same as with standard models, however the tools and their usage can differ slightly. \n",
        "\n",
        "### Add Data\n",
        "\n",
        "Adding data to the training set is the number one way to improve accuracy. As noted above, neural networks are commonly able to acheive very high accuracy levels if provided with very large training sets. For smaller datasets, the probability of a neural network being the best model is much lower than with big data. There isn't a replacement for having large amounts of data (though there are a few tricks that we'll look at later), and modern large neural networks are (usually) the best tool that is able to take advantage of all that data. \n",
        "\n",
        "In the near future we'll look at some common pre-trained models that people/orgs such as Google have shared, most notably ones that do things like image recognition. These models are typically trained on really large datasets - often 10s of GB or more. This massive amount of training data allows these models to be more accurate than anything that we could create, but would be unrealistic for most people to train just due to the processing power and time needed. We can take them and adjust them a bit to our needs though...\n",
        "\n",
        "<b>By far, the most universally beneficial way to make a neural network more accurate is to add more (good) data.</b>\n",
        "\n",
        "### Model Capacity\n",
        "\n",
        "The model capacity is the \"size\" of the model - refering to the combination of the number of neurons on each layer and the number of layers. In general the larger a feature set is, the larger a capacity we will need to be able to avoid underfitting and make accurate predictions. However, similar to a decision tree, if the model becomes too large for the data, we are likely to overfit. \n",
        "\n",
        "In big data scenarios (e.g. Google or Tesla training image recognition models) the feature sets can be massive (e.g. a 5 megapixel image is at least 15 million features) so the networks used have a very high capacity. Because there is a lot of training data, the model is able to have a huge capacity, but not overfit. These models can take FOREVER to process (e.g. weeks with the work paralellized on dedicated and fast machines) but they are able to make very accurate predictions since they get all the \"benefits\" of overfitting - predictions highly tailored to the training data; along with all the \"benefits\" of underfitting - since there is so much training data, they are still generalized enough to predict new data. There is something of an open question on if we should expand capacity by making the layers larger with more neurons, or by adding more layers. Like most things, the answer is whatever is tested to be best for the specific problem. In general though, more layers seems to be better for most problems, and the neural networks that excel at things such as image recognition tend to be deep learning networks - those with many layers. The combination of large datasets, deep networks, and fast processing allows for most of the modern AI that we see or interact with. \n",
        "\n",
        "<b>Note:</b> the size numbers that we specify as we add layers is the size of the output (other than the \"input_dim\" we have on the first layer). For other layers, the input of one just adapts to the output of the previous layer.\n",
        "\n",
        "#### Capacities, For Now\n",
        "\n",
        "We will look more at the model capacities in the next section, for now we can follow a few rough guidelines:\n",
        "<ul>\n",
        "<li> Input layer output size is between the # of features, and some multiple (maybe up to ~5 max) of the # of features. \n",
        "<li> Output layer is defined by the target we are predicting.  \n",
        "<li> Hidden layers between the two either stay constant in size, or taper down. \n",
        "</ul>\n",
        "\n",
        "We will look at this more next time. Unfortunately there isn't a definitive rule that always works, the ultimate decision is based on results. For now, we can just make some reasonable models and observe the results. "
      ]
    },
    {
      "cell_type": "code",
      "execution_count": 14,
      "metadata": {
        "id": "OZWfGHNqZVRb",
        "outputId": "1e595b6c-0e69-477e-dc67-c505ef26ba74"
      },
      "outputs": [
        {
          "name": "stdout",
          "output_type": "stream",
          "text": [
            "Model: \"sequential_2\"\n",
            "_________________________________________________________________\n",
            " Layer (type)                Output Shape              Param #   \n",
            "=================================================================\n",
            " normalization_2 (Normalizat  (None, 18)               37        \n",
            " ion)                                                            \n",
            "                                                                 \n",
            " dense_5 (Dense)             (None, 128)               2432      \n",
            "                                                                 \n",
            " dense_6 (Dense)             (None, 128)               16512     \n",
            "                                                                 \n",
            " dense_7 (Dense)             (None, 128)               16512     \n",
            "                                                                 \n",
            " dense_8 (Dense)             (None, 128)               16512     \n",
            "                                                                 \n",
            " dense_9 (Dense)             (None, 1)                 129       \n",
            "                                                                 \n",
            "=================================================================\n",
            "Total params: 52,134\n",
            "Trainable params: 52,097\n",
            "Non-trainable params: 37\n",
            "_________________________________________________________________\n"
          ]
        }
      ],
      "source": [
        "#Test Different Model Capacities\n",
        "normalizer = tf.keras.layers.Normalization(axis=-1)\n",
        "normalizer.adapt(np.array(X_train))\n",
        "\n",
        "model = Sequential()\n",
        "model.add(normalizer)\n",
        "model.add(Dense(128, input_dim=18, activation='relu'))\n",
        "model.add(Dense(128, activation='relu'))\n",
        "model.add(Dense(128, activation='relu'))\n",
        "model.add(Dense(128, activation='relu'))\n",
        "model.add(Dense(1))\n",
        "model.summary()"
      ]
    },
    {
      "cell_type": "code",
      "execution_count": 15,
      "metadata": {
        "id": "WXjXrQEeZVRb",
        "outputId": "7d25815a-6f32-4c0d-c89b-a255ff13816f"
      },
      "outputs": [
        {
          "name": "stdout",
          "output_type": "stream",
          "text": [
            "169/169 [==============================] - 0s 2ms/step - loss: 66531.4766\n"
          ]
        },
        {
          "data": {
            "image/png": "[encoded data removed]",
            "text/plain": [
              "<Figure size 640x480 with 1 Axes>"
            ]
          },
          "metadata": {},
          "output_type": "display_data"
        }
      ],
      "source": [
        "model.compile(loss='mean_absolute_error', optimizer=tf.optimizers.Adam(learning_rate=.01))\n",
        "train_log = model.fit(X_train, y_train, epochs=BASE_EPOCHS*2, batch_size=1000, validation_split=.2, verbose=0)\n",
        "model.evaluate(X_test, y_test)\n",
        "plot_loss(train_log)"
      ]
    },
    {
      "attachments": {},
      "cell_type": "markdown",
      "metadata": {
        "id": "tTocTQASZVRc"
      },
      "source": [
        "### Early Stopping\n",
        "\n",
        "Early stopping is very common with neural networks, due to the common pattern mentioned above of the optimal balance of over/under fitting occuring at some point within many, potentially dozens/hundreds/thousands, of epochs. Early stopping kills the process after it detects that validation loss is going back up. \n",
        "\n",
        "We can put early stopping in place by using a Keras function called a callback, which has odd syntax, but is quite simple to use. The patience pararmeter controls how many epcohs of worsening scores are tolerated before implementing the stop. The restore_best_weights tells the model to roll back all of its weights to the optimal point - so we automatically get the best model post-training. In most cases we probabyl want to use early stopping along with a high epoch number. We can let the model train, and just tell us when it is finished. \n",
        "\n",
        "Another parameter that we may want to implement is the \"min_delta\" parameter. This controls how much the validation loss needs to improve to be considered an improvement. If the validation loss is 0.1, and the min_delta is 0.01, then the model will stop if the validation loss goes up to 0.11, but not if it goes up to 0.12. This is useful if we have a very small validation loss, and we want to make sure that we are getting a significant improvement before stopping. In situations like the above one, where the loss is flat-ish, but bumps around a little, this may help deal with that noise and make the early stopping cutoffs work more in line with expectations.\n",
        "\n",
        "<b>Note:</b> the patience parameter requires a little bit of thought, and a good value can vary a little between scenarios. We want to make sure that we are not stopping too early, if the patience is really small, we might get a situation where a local minima is reached and we stop the model as it is trying to escape it. If the patience is too large, we might not stop the model in time, as we might have many flat loss values, then one or two that are an improvement, resetting the clock and making the training process keep going far too long. We need to base it somewhat on what the model actually does - very stable loss results might mean we need a higher patience, while a model that is very volatile might need a lower patience, as we might not have long stable periods anywhere. Values between 5 and 15 or so are common, as are settings of around 10% of the number of epochs, but it is a good idea to test a few different values to see what works best - if you actually work with larger examples we'll run several trials with different parameters or model configurations with samples of the full dataset. These trials will likely give us an idea of a reasonable cutoff point for patience. Many of the patience settings in examples that are in the next few workbooks are probably lower than \"ideal\", this is entirely for practicality purposes - we might be cutting off some slightly more ideal models, but we are also saving a lot of time."
      ]
    },
    {
      "cell_type": "code",
      "execution_count": 16,
      "metadata": {
        "id": "b0MYLfTBZVRc"
      },
      "outputs": [],
      "source": [
        "normalizer = tf.keras.layers.Normalization(axis=-1)\n",
        "normalizer.adapt(np.array(X_train))\n",
        "\n",
        "model = Sequential()\n",
        "model.add(normalizer)\n",
        "model.add(Dense(18, input_dim=18, activation='relu'))\n",
        "model.add(Dense(18, activation='relu'))\n",
        "model.add(Dense(18, activation='relu'))\n",
        "model.add(Dense(1))\n",
        "#model.summary()"
      ]
    },
    {
      "cell_type": "code",
      "execution_count": 17,
      "metadata": {
        "id": "SFlOi1yGZVRc",
        "outputId": "256f7158-b58b-48b4-d17e-877c40d84201"
      },
      "outputs": [
        {
          "name": "stdout",
          "output_type": "stream",
          "text": [
            "Epoch 1/300\n",
            "260/260 [==============================] - 1s 3ms/step - loss: 362512.2812 - val_loss: 171549.3281\n",
            "Epoch 2/300\n",
            "260/260 [==============================] - 1s 3ms/step - loss: 136355.0469 - val_loss: 116397.2266\n",
            "Epoch 3/300\n",
            "260/260 [==============================] - 1s 3ms/step - loss: 114311.6797 - val_loss: 109216.1016\n",
            "Epoch 4/300\n",
            "260/260 [==============================] - 1s 3ms/step - loss: 110353.6797 - val_loss: 107237.2969\n",
            "Epoch 5/300\n",
            "260/260 [==============================] - 1s 3ms/step - loss: 108601.6250 - val_loss: 106243.7891\n",
            "Epoch 6/300\n",
            "260/260 [==============================] - 1s 3ms/step - loss: 107416.6172 - val_loss: 104888.6797\n",
            "Epoch 7/300\n",
            "260/260 [==============================] - 1s 3ms/step - loss: 106543.1953 - val_loss: 104160.6719\n",
            "Epoch 8/300\n",
            "260/260 [==============================] - 1s 3ms/step - loss: 105801.6094 - val_loss: 104830.9375\n",
            "Epoch 9/300\n",
            "260/260 [==============================] - 1s 3ms/step - loss: 105240.0547 - val_loss: 104163.2578\n",
            "Epoch 10/300\n",
            "260/260 [==============================] - 1s 3ms/step - loss: 104789.7578 - val_loss: 103353.7422\n",
            "Epoch 11/300\n",
            "260/260 [==============================] - 1s 3ms/step - loss: 104119.2891 - val_loss: 102552.0703\n",
            "Epoch 12/300\n",
            "260/260 [==============================] - 1s 3ms/step - loss: 103609.3516 - val_loss: 102356.7109\n",
            "Epoch 13/300\n",
            "260/260 [==============================] - 1s 4ms/step - loss: 103342.4766 - val_loss: 102510.6406\n",
            "Epoch 14/300\n",
            "260/260 [==============================] - 1s 4ms/step - loss: 102861.4688 - val_loss: 101543.7109\n",
            "Epoch 15/300\n",
            "260/260 [==============================] - 1s 4ms/step - loss: 102549.4141 - val_loss: 101084.4375\n",
            "Epoch 16/300\n",
            "260/260 [==============================] - 1s 3ms/step - loss: 102215.1641 - val_loss: 101651.5547\n",
            "Epoch 17/300\n",
            "260/260 [==============================] - 1s 3ms/step - loss: 102033.0547 - val_loss: 100552.8203\n",
            "Epoch 18/300\n",
            "260/260 [==============================] - 1s 3ms/step - loss: 101797.7266 - val_loss: 101041.6953\n",
            "Epoch 19/300\n",
            "260/260 [==============================] - 1s 3ms/step - loss: 101591.4453 - val_loss: 101661.5938\n",
            "Epoch 20/300\n",
            "260/260 [==============================] - 1s 4ms/step - loss: 101428.2422 - val_loss: 100497.6953\n",
            "Epoch 21/300\n",
            "260/260 [==============================] - 1s 3ms/step - loss: 101185.9766 - val_loss: 100290.9219\n",
            "Epoch 22/300\n",
            "260/260 [==============================] - 1s 3ms/step - loss: 101058.7031 - val_loss: 100543.5625\n",
            "Epoch 23/300\n",
            "260/260 [==============================] - 1s 4ms/step - loss: 100854.2891 - val_loss: 100340.8047\n",
            "Epoch 24/300\n",
            "260/260 [==============================] - 1s 4ms/step - loss: 100643.5000 - val_loss: 99974.8281\n",
            "Epoch 25/300\n",
            "260/260 [==============================] - 1s 5ms/step - loss: 100385.8984 - val_loss: 100939.9609\n",
            "Epoch 26/300\n",
            "260/260 [==============================] - 1s 4ms/step - loss: 100559.3125 - val_loss: 100116.0391\n",
            "Epoch 27/300\n",
            "260/260 [==============================] - 1s 4ms/step - loss: 100148.5234 - val_loss: 99550.8828\n",
            "Epoch 28/300\n",
            "260/260 [==============================] - 1s 3ms/step - loss: 100285.2109 - val_loss: 99068.9141\n",
            "Epoch 29/300\n",
            "260/260 [==============================] - 1s 3ms/step - loss: 100051.2109 - val_loss: 99383.7812\n",
            "Epoch 30/300\n",
            "260/260 [==============================] - 1s 3ms/step - loss: 99830.6719 - val_loss: 99467.3984\n",
            "Epoch 31/300\n",
            "260/260 [==============================] - 1s 3ms/step - loss: 99893.4297 - val_loss: 99245.3906\n",
            "Epoch 32/300\n",
            "260/260 [==============================] - 1s 3ms/step - loss: 99691.4688 - val_loss: 99627.9219\n",
            "Epoch 33/300\n",
            "260/260 [==============================] - 1s 3ms/step - loss: 99585.4609 - val_loss: 98671.9766\n",
            "Epoch 34/300\n",
            "260/260 [==============================] - 1s 3ms/step - loss: 99552.7109 - val_loss: 98708.3906\n",
            "Epoch 35/300\n",
            "260/260 [==============================] - 1s 3ms/step - loss: 99499.6719 - val_loss: 99176.8438\n",
            "Epoch 36/300\n",
            "260/260 [==============================] - 1s 4ms/step - loss: 99327.8047 - val_loss: 98435.6797\n",
            "Epoch 37/300\n",
            "260/260 [==============================] - 1s 5ms/step - loss: 99335.6484 - val_loss: 98598.5156\n",
            "Epoch 38/300\n",
            "260/260 [==============================] - 1s 3ms/step - loss: 99352.2812 - val_loss: 98849.0391\n",
            "Epoch 39/300\n",
            "260/260 [==============================] - 1s 4ms/step - loss: 99215.3438 - val_loss: 101774.8516\n",
            "Epoch 40/300\n",
            "260/260 [==============================] - 1s 4ms/step - loss: 99209.0234 - val_loss: 99462.3203\n",
            "Epoch 41/300\n",
            "260/260 [==============================] - 1s 4ms/step - loss: 98993.1719 - val_loss: 98748.6172\n",
            "Epoch 42/300\n",
            "260/260 [==============================] - 1s 4ms/step - loss: 99163.7812 - val_loss: 98285.2266\n",
            "Epoch 43/300\n",
            "260/260 [==============================] - 1s 4ms/step - loss: 98784.9922 - val_loss: 98950.4219\n",
            "Epoch 44/300\n",
            "260/260 [==============================] - 1s 4ms/step - loss: 98871.5547 - val_loss: 98009.6406\n",
            "Epoch 45/300\n",
            "260/260 [==============================] - 1s 4ms/step - loss: 98833.2578 - val_loss: 98182.9062\n",
            "Epoch 46/300\n",
            "260/260 [==============================] - 1s 3ms/step - loss: 98716.8828 - val_loss: 98553.2188\n",
            "Epoch 47/300\n",
            "260/260 [==============================] - 1s 4ms/step - loss: 98883.2656 - val_loss: 97890.2812\n",
            "Epoch 48/300\n",
            "260/260 [==============================] - 1s 4ms/step - loss: 98574.1875 - val_loss: 98186.7969\n",
            "Epoch 49/300\n",
            "260/260 [==============================] - 1s 4ms/step - loss: 98784.9688 - val_loss: 97631.3906\n",
            "Epoch 50/300\n",
            "260/260 [==============================] - 1s 4ms/step - loss: 98469.5234 - val_loss: 98428.8516\n",
            "Epoch 51/300\n",
            "260/260 [==============================] - 1s 4ms/step - loss: 98514.7734 - val_loss: 97878.2188\n",
            "Epoch 52/300\n",
            "260/260 [==============================] - 1s 3ms/step - loss: 98556.4297 - val_loss: 98934.3672\n",
            "Epoch 53/300\n",
            "260/260 [==============================] - 1s 3ms/step - loss: 98392.9062 - val_loss: 97694.1719\n",
            "Epoch 54/300\n",
            "260/260 [==============================] - 1s 3ms/step - loss: 98517.2969 - val_loss: 98223.5938\n",
            "Epoch 55/300\n",
            "260/260 [==============================] - 1s 3ms/step - loss: 98386.6406 - val_loss: 98108.1094\n",
            "Epoch 56/300\n",
            "260/260 [==============================] - 1s 4ms/step - loss: 98297.5859 - val_loss: 97451.4766\n",
            "Epoch 57/300\n",
            "260/260 [==============================] - 1s 4ms/step - loss: 98524.5234 - val_loss: 97790.9219\n",
            "Epoch 58/300\n",
            "260/260 [==============================] - 1s 4ms/step - loss: 98499.2266 - val_loss: 98563.6484\n",
            "Epoch 59/300\n",
            "260/260 [==============================] - 1s 4ms/step - loss: 98195.7031 - val_loss: 98683.5703\n",
            "Epoch 60/300\n",
            "260/260 [==============================] - 1s 4ms/step - loss: 98460.7344 - val_loss: 97759.0391\n",
            "Epoch 61/300\n",
            "260/260 [==============================] - 1s 3ms/step - loss: 98096.6562 - val_loss: 97754.2812\n",
            "Epoch 62/300\n",
            "260/260 [==============================] - 1s 3ms/step - loss: 98124.4141 - val_loss: 97617.0781\n",
            "Epoch 63/300\n",
            "260/260 [==============================] - 1s 3ms/step - loss: 98034.8828 - val_loss: 97480.4062\n",
            "Epoch 64/300\n",
            "260/260 [==============================] - 1s 3ms/step - loss: 98181.6875 - val_loss: 97115.8750\n",
            "Epoch 65/300\n",
            "260/260 [==============================] - 1s 3ms/step - loss: 97917.8516 - val_loss: 98760.7734\n",
            "Epoch 66/300\n",
            "260/260 [==============================] - 1s 3ms/step - loss: 97885.7891 - val_loss: 97512.2422\n",
            "Epoch 67/300\n",
            "260/260 [==============================] - 1s 3ms/step - loss: 97976.2578 - val_loss: 97449.2188\n",
            "Epoch 68/300\n",
            "260/260 [==============================] - 1s 3ms/step - loss: 97850.1250 - val_loss: 97515.9844\n",
            "Epoch 69/300\n",
            "260/260 [==============================] - 1s 4ms/step - loss: 97864.0391 - val_loss: 99331.4062\n",
            "Epoch 70/300\n",
            "260/260 [==============================] - 1s 5ms/step - loss: 97704.7500 - val_loss: 96869.2578\n",
            "Epoch 71/300\n",
            "260/260 [==============================] - 1s 4ms/step - loss: 97809.2578 - val_loss: 99290.7578\n",
            "Epoch 72/300\n",
            "260/260 [==============================] - 1s 4ms/step - loss: 97673.8984 - val_loss: 97590.2109\n",
            "Epoch 73/300\n",
            "260/260 [==============================] - 1s 4ms/step - loss: 97595.2656 - val_loss: 97376.6250\n",
            "Epoch 74/300\n",
            "260/260 [==============================] - 1s 3ms/step - loss: 97594.2891 - val_loss: 97621.4609\n",
            "Epoch 75/300\n",
            "260/260 [==============================] - 1s 4ms/step - loss: 97372.1875 - val_loss: 96744.0234\n",
            "Epoch 76/300\n",
            "260/260 [==============================] - 1s 4ms/step - loss: 97369.8750 - val_loss: 97524.2578\n",
            "Epoch 77/300\n",
            "260/260 [==============================] - 1s 3ms/step - loss: 97364.6484 - val_loss: 96619.8047\n",
            "Epoch 78/300\n",
            "260/260 [==============================] - 1s 3ms/step - loss: 97326.4531 - val_loss: 96931.1016\n",
            "Epoch 79/300\n",
            "260/260 [==============================] - 1s 3ms/step - loss: 97203.4844 - val_loss: 96500.3203\n",
            "Epoch 80/300\n",
            "260/260 [==============================] - 1s 4ms/step - loss: 97223.3984 - val_loss: 96961.6562\n",
            "Epoch 81/300\n",
            "260/260 [==============================] - 1s 3ms/step - loss: 97213.2734 - val_loss: 96218.0000\n",
            "Epoch 82/300\n",
            "260/260 [==============================] - 1s 3ms/step - loss: 97064.2266 - val_loss: 96969.4922\n",
            "Epoch 83/300\n",
            "260/260 [==============================] - 1s 3ms/step - loss: 97171.2500 - val_loss: 96451.5234\n",
            "Epoch 84/300\n",
            "260/260 [==============================] - 1s 3ms/step - loss: 97045.5312 - val_loss: 96030.5469\n",
            "Epoch 85/300\n",
            "260/260 [==============================] - 1s 3ms/step - loss: 96887.3203 - val_loss: 95924.2422\n",
            "Epoch 86/300\n",
            "260/260 [==============================] - 1s 3ms/step - loss: 96728.4688 - val_loss: 96662.6328\n",
            "Epoch 87/300\n",
            "260/260 [==============================] - 1s 3ms/step - loss: 96662.8359 - val_loss: 95889.6562\n",
            "Epoch 88/300\n",
            "260/260 [==============================] - 1s 3ms/step - loss: 96506.3203 - val_loss: 96473.7109\n",
            "Epoch 89/300\n",
            "260/260 [==============================] - 1s 3ms/step - loss: 96610.3203 - val_loss: 96571.8359\n",
            "Epoch 90/300\n",
            "260/260 [==============================] - 1s 3ms/step - loss: 96783.6094 - val_loss: 95880.9688\n",
            "Epoch 91/300\n",
            "260/260 [==============================] - 1s 3ms/step - loss: 96557.1250 - val_loss: 95429.4766\n",
            "Epoch 92/300\n",
            "260/260 [==============================] - 1s 4ms/step - loss: 96634.0156 - val_loss: 95881.9922\n",
            "Epoch 93/300\n",
            "260/260 [==============================] - 1s 4ms/step - loss: 96574.8438 - val_loss: 95705.9688\n",
            "Epoch 94/300\n",
            "260/260 [==============================] - 1s 3ms/step - loss: 96251.5938 - val_loss: 95403.7188\n",
            "Epoch 95/300\n",
            "260/260 [==============================] - 1s 4ms/step - loss: 96218.3047 - val_loss: 95818.8359\n",
            "Epoch 96/300\n",
            "260/260 [==============================] - 1s 4ms/step - loss: 96217.7109 - val_loss: 95432.5859\n",
            "Epoch 97/300\n",
            "260/260 [==============================] - 1s 4ms/step - loss: 96041.9688 - val_loss: 95970.6328\n",
            "Epoch 98/300\n",
            "260/260 [==============================] - 1s 3ms/step - loss: 96246.4219 - val_loss: 96138.7969\n",
            "Epoch 99/300\n",
            "260/260 [==============================] - 1s 4ms/step - loss: 96159.2812 - val_loss: 95687.4609\n",
            "Epoch 100/300\n",
            "260/260 [==============================] - 1s 4ms/step - loss: 96200.7969 - val_loss: 96172.8438\n",
            "Epoch 101/300\n",
            "260/260 [==============================] - 1s 3ms/step - loss: 96082.7578 - val_loss: 95030.9219\n",
            "Epoch 102/300\n",
            "260/260 [==============================] - 1s 4ms/step - loss: 96040.1172 - val_loss: 94871.2734\n",
            "Epoch 103/300\n",
            "260/260 [==============================] - 1s 4ms/step - loss: 96151.6406 - val_loss: 95186.0547\n",
            "Epoch 104/300\n",
            "260/260 [==============================] - 1s 4ms/step - loss: 96071.2578 - val_loss: 95315.1328\n",
            "Epoch 105/300\n",
            "260/260 [==============================] - 1s 4ms/step - loss: 96222.2031 - val_loss: 95117.7500\n",
            "Epoch 106/300\n",
            "260/260 [==============================] - 1s 3ms/step - loss: 95946.8750 - val_loss: 95756.8047\n",
            "Epoch 107/300\n",
            "260/260 [==============================] - 1s 3ms/step - loss: 96022.7891 - val_loss: 95565.0781\n",
            "Epoch 108/300\n",
            "260/260 [==============================] - 1s 3ms/step - loss: 95925.2266 - val_loss: 94728.8906\n",
            "Epoch 109/300\n",
            "260/260 [==============================] - 1s 3ms/step - loss: 95709.1875 - val_loss: 96000.4062\n",
            "Epoch 110/300\n",
            "260/260 [==============================] - 1s 3ms/step - loss: 95951.3672 - val_loss: 96891.9141\n",
            "Epoch 111/300\n",
            "260/260 [==============================] - 1s 3ms/step - loss: 95708.3359 - val_loss: 94654.3984\n",
            "Epoch 112/300\n",
            "260/260 [==============================] - 1s 4ms/step - loss: 95923.8203 - val_loss: 94896.5156\n",
            "Epoch 113/300\n",
            "260/260 [==============================] - 1s 3ms/step - loss: 95840.9531 - val_loss: 95351.6875\n",
            "Epoch 114/300\n",
            "260/260 [==============================] - 1s 3ms/step - loss: 95724.8594 - val_loss: 95847.2266\n",
            "Epoch 115/300\n",
            "260/260 [==============================] - 1s 3ms/step - loss: 95777.3516 - val_loss: 94915.4766\n",
            "Epoch 116/300\n",
            "260/260 [==============================] - 1s 3ms/step - loss: 95644.2422 - val_loss: 94757.0469\n",
            "Epoch 117/300\n",
            "260/260 [==============================] - 1s 3ms/step - loss: 95744.6094 - val_loss: 94794.4688\n",
            "Epoch 118/300\n",
            "260/260 [==============================] - 1s 3ms/step - loss: 95716.7266 - val_loss: 94456.0703\n",
            "Epoch 119/300\n",
            "260/260 [==============================] - 1s 3ms/step - loss: 95701.3750 - val_loss: 94533.0156\n",
            "Epoch 120/300\n",
            "260/260 [==============================] - 1s 3ms/step - loss: 95594.3906 - val_loss: 94709.8438\n",
            "Epoch 121/300\n",
            "260/260 [==============================] - 1s 3ms/step - loss: 95779.9375 - val_loss: 94594.1094\n",
            "Epoch 122/300\n",
            "260/260 [==============================] - 1s 3ms/step - loss: 95626.8125 - val_loss: 94150.1406\n",
            "Epoch 123/300\n",
            "260/260 [==============================] - 1s 3ms/step - loss: 95706.8047 - val_loss: 95181.4766\n",
            "Epoch 124/300\n",
            "260/260 [==============================] - 1s 3ms/step - loss: 95625.9922 - val_loss: 94504.2422\n",
            "Epoch 125/300\n",
            "260/260 [==============================] - 1s 3ms/step - loss: 95641.7578 - val_loss: 94947.8203\n",
            "Epoch 126/300\n",
            "260/260 [==============================] - 1s 3ms/step - loss: 95749.9297 - val_loss: 94233.7188\n",
            "Epoch 127/300\n",
            "260/260 [==============================] - 1s 3ms/step - loss: 95574.6484 - val_loss: 94410.5156\n",
            "Epoch 128/300\n",
            "260/260 [==============================] - 1s 3ms/step - loss: 95577.5781 - val_loss: 94843.6016\n",
            "Epoch 129/300\n",
            "260/260 [==============================] - 1s 3ms/step - loss: 95455.0781 - val_loss: 95624.6953\n",
            "Epoch 130/300\n",
            "260/260 [==============================] - 1s 3ms/step - loss: 95678.0938 - val_loss: 95355.3516\n",
            "Epoch 131/300\n",
            "260/260 [==============================] - 1s 3ms/step - loss: 95492.1562 - val_loss: 94664.4453\n",
            "Epoch 132/300\n",
            "260/260 [==============================] - 1s 3ms/step - loss: 95621.2188 - val_loss: 94806.2969\n",
            "Epoch 133/300\n",
            "260/260 [==============================] - 1s 3ms/step - loss: 95728.1406 - val_loss: 94595.3438\n",
            "Epoch 134/300\n",
            "260/260 [==============================] - 1s 3ms/step - loss: 95420.1953 - val_loss: 94758.8672\n",
            "Epoch 135/300\n",
            "260/260 [==============================] - 1s 3ms/step - loss: 95554.3672 - val_loss: 94390.3828\n",
            "Epoch 136/300\n",
            "260/260 [==============================] - 1s 3ms/step - loss: 95499.2734 - val_loss: 94787.5938\n",
            "Epoch 137/300\n",
            "260/260 [==============================] - 1s 3ms/step - loss: 95421.7422 - val_loss: 94643.0391\n",
            "Epoch 138/300\n",
            "260/260 [==============================] - 1s 3ms/step - loss: 95344.6172 - val_loss: 94502.2188\n",
            "Epoch 139/300\n",
            "260/260 [==============================] - 1s 3ms/step - loss: 95473.7266 - val_loss: 95300.1641\n",
            "Epoch 140/300\n",
            "260/260 [==============================] - 1s 3ms/step - loss: 95567.8906 - val_loss: 95238.4219\n",
            "Epoch 141/300\n",
            "260/260 [==============================] - 1s 3ms/step - loss: 95579.1328 - val_loss: 94959.5234\n",
            "Epoch 142/300\n",
            "260/260 [==============================] - 1s 3ms/step - loss: 95358.7578 - val_loss: 94224.6484\n",
            "Epoch 143/300\n",
            "260/260 [==============================] - 1s 3ms/step - loss: 95282.3516 - val_loss: 94704.0859\n",
            "Epoch 144/300\n",
            "260/260 [==============================] - 1s 3ms/step - loss: 95326.2812 - val_loss: 94621.4844\n",
            "Epoch 145/300\n",
            "260/260 [==============================] - 1s 3ms/step - loss: 95292.4453 - val_loss: 94615.3828\n",
            "Epoch 146/300\n",
            "260/260 [==============================] - 1s 3ms/step - loss: 95327.9688 - val_loss: 94704.0391\n",
            "Epoch 147/300\n",
            "260/260 [==============================] - 1s 3ms/step - loss: 95191.6172 - val_loss: 94215.2812\n",
            "169/169 [==============================] - 0s 1ms/step - loss: 96185.0156\n"
          ]
        },
        {
          "data": {
            "image/png": "[encoded data removed]",
            "text/plain": [
              "<Figure size 640x480 with 1 Axes>"
            ]
          },
          "metadata": {},
          "output_type": "display_data"
        }
      ],
      "source": [
        "callback = tf.keras.callbacks.EarlyStopping(monitor='loss', patience=50, restore_best_weights=True, min_delta=1000) \n",
        "\n",
        "model.compile(loss='mean_absolute_error', optimizer=tf.optimizers.Adam(learning_rate=.01))\n",
        "train_log = model.fit(X_train, y_train, epochs=BASE_EPOCHS*3, batch_size=50, validation_split=.2, verbose=1, callbacks=[callback])\n",
        "model.evaluate(X_test, y_test)\n",
        "plot_loss(train_log)"
      ]
    },
    {
      "attachments": {},
      "cell_type": "markdown",
      "metadata": {},
      "source": [
        "### Validation\n",
        "\n",
        "One change in the way we normally setup our data in neural networks is that we are performing checks during the training process with \"validation data\". This is another split of the data, like train-test, but this validation data is used during training to check the model's progress. This allows the model to constantly calculate the accuracy of the model on new data, similar to how things would work inside of a cross-validation in a grid search. The key thing that we can use this for is that it allows us to calculate the current \"test data\" performance, which is the \"validation loss\" that we can use to evaluate the model and cut short training. This validation dataset is normally \"good enough\" to be an indicator of the expected performance of the model, just like the test scores we are used to. We could still do a train-test split prior to training, and calcuate that true test accuracy, but we don't really need to. In most cases, what we referred to as test accuracy in sklearn models is just the validation accuracy in neural networks.\n",
        "\n",
        "### Early Stopping on Validation Loss\n",
        "\n",
        "More likely than stopping when the training loss starts to increase, we'll want to stop when the validation loss starts to increase. This is because the validation loss is a better indicator of how the model will perform on new data. This is also what allows us to set a high epoch number and walk away while training happens - as long as our model has \"room to grow\", or the capacity to fit the data, we can let it train until we've reached a minimum validation loss.\n",
        "\n",
        "![Early Stopping](images/early_stopping.png \"Early Stopping\")\n",
        "\n",
        "<b>Note:</b> early stopping on the validation loss will probably be the most common \"optimization\" that we'll do. "
      ]
    },
    {
      "cell_type": "code",
      "execution_count": 18,
      "metadata": {},
      "outputs": [
        {
          "name": "stdout",
          "output_type": "stream",
          "text": [
            "Epoch 1/300\n",
            "227/227 [==============================] - 1s 3ms/step - loss: 96217.9453 - val_loss: 95745.9922\n",
            "Epoch 2/300\n",
            "227/227 [==============================] - 1s 4ms/step - loss: 95991.1562 - val_loss: 96193.6797\n",
            "Epoch 3/300\n",
            "227/227 [==============================] - 1s 3ms/step - loss: 95881.8125 - val_loss: 95839.6719\n",
            "Epoch 4/300\n",
            "227/227 [==============================] - 1s 3ms/step - loss: 95884.5234 - val_loss: 95922.0312\n",
            "Epoch 5/300\n",
            "227/227 [==============================] - 1s 3ms/step - loss: 95842.0703 - val_loss: 96488.2812\n",
            "Epoch 6/300\n",
            "227/227 [==============================] - 1s 3ms/step - loss: 96041.2109 - val_loss: 95593.9141\n",
            "Epoch 7/300\n",
            "227/227 [==============================] - 1s 3ms/step - loss: 95803.3438 - val_loss: 95968.4453\n",
            "Epoch 8/300\n",
            "227/227 [==============================] - 1s 3ms/step - loss: 95755.7578 - val_loss: 95961.2109\n",
            "Epoch 9/300\n",
            "227/227 [==============================] - 1s 3ms/step - loss: 95801.2109 - val_loss: 95826.4375\n",
            "Epoch 10/300\n",
            "227/227 [==============================] - 1s 3ms/step - loss: 95800.4375 - val_loss: 95424.9609\n",
            "Epoch 11/300\n",
            "227/227 [==============================] - 1s 3ms/step - loss: 95896.3984 - val_loss: 95690.0625\n",
            "Epoch 12/300\n",
            "227/227 [==============================] - 1s 3ms/step - loss: 95810.4453 - val_loss: 96025.7188\n",
            "Epoch 13/300\n",
            "227/227 [==============================] - 1s 3ms/step - loss: 95881.2031 - val_loss: 96572.2031\n",
            "Epoch 14/300\n",
            "227/227 [==============================] - 1s 3ms/step - loss: 95845.1406 - val_loss: 95381.6172\n",
            "Epoch 15/300\n",
            "227/227 [==============================] - 1s 3ms/step - loss: 95676.6484 - val_loss: 96295.4141\n",
            "Epoch 16/300\n",
            "227/227 [==============================] - 1s 3ms/step - loss: 95683.1250 - val_loss: 95566.8047\n",
            "Epoch 17/300\n",
            "227/227 [==============================] - 1s 3ms/step - loss: 95698.8594 - val_loss: 95966.1797\n",
            "Epoch 18/300\n",
            "227/227 [==============================] - 1s 3ms/step - loss: 95684.7812 - val_loss: 95686.2266\n",
            "Epoch 19/300\n",
            "227/227 [==============================] - 1s 3ms/step - loss: 95529.3828 - val_loss: 95775.4375\n",
            "Epoch 20/300\n",
            "227/227 [==============================] - 1s 3ms/step - loss: 95757.6641 - val_loss: 96771.7031\n",
            "Epoch 21/300\n",
            "227/227 [==============================] - 1s 3ms/step - loss: 95678.4531 - val_loss: 96364.0156\n",
            "169/169 [==============================] - 0s 1ms/step - loss: 95968.6641\n"
          ]
        },
        {
          "data": {
            "image/png": "[encoded data removed]",
            "text/plain": [
              "<Figure size 640x480 with 1 Axes>"
            ]
          },
          "metadata": {},
          "output_type": "display_data"
        }
      ],
      "source": [
        "callback = tf.keras.callbacks.EarlyStopping(monitor='val_loss', patience=20, restore_best_weights=True, min_delta=2000) \n",
        "\n",
        "model.compile(loss='mean_absolute_error', optimizer=tf.optimizers.Adam(learning_rate=.01))\n",
        "train_log = model.fit(X_train, y_train, epochs=BASE_EPOCHS*3, batch_size=50, validation_split=.3, verbose=1, callbacks=[callback])\n",
        "model.evaluate(X_test, y_test)\n",
        "plot_loss(train_log)"
      ]
    },
    {
      "cell_type": "markdown",
      "metadata": {
        "id": "ZXfwUFjSZVRc"
      },
      "source": [
        "### Regularization\n",
        "\n",
        "Like other linear models, we can implement regularization to help tame overfitting. \n",
        "\n",
        "We can use both L2 (Ridge) regularization that will limit growth of coefficients, and L1 (Lasso) regularization that is able to eliminate features by shrinking their coefficients to 0. The functionality is the same as we are used to, a regularization term is added to the loss, and the optimization, such as gradient descent, is then performed as normal. "
      ]
    },
    {
      "cell_type": "code",
      "execution_count": 19,
      "metadata": {
        "id": "cgwwVgJ6ZVRd",
        "outputId": "7c4c3e58-3c0a-42ef-b502-764d87747a75"
      },
      "outputs": [
        {
          "name": "stdout",
          "output_type": "stream",
          "text": [
            "Model: \"sequential_4\"\n",
            "_________________________________________________________________\n",
            " Layer (type)                Output Shape              Param #   \n",
            "=================================================================\n",
            " normalization_4 (Normalizat  (None, 18)               37        \n",
            " ion)                                                            \n",
            "                                                                 \n",
            " dense_14 (Dense)            (None, 128)               2432      \n",
            "                                                                 \n",
            " dense_15 (Dense)            (None, 128)               16512     \n",
            "                                                                 \n",
            " dense_16 (Dense)            (None, 128)               16512     \n",
            "                                                                 \n",
            " dense_17 (Dense)            (None, 1)                 129       \n",
            "                                                                 \n",
            "=================================================================\n",
            "Total params: 35,622\n",
            "Trainable params: 35,585\n",
            "Non-trainable params: 37\n",
            "_________________________________________________________________\n"
          ]
        }
      ],
      "source": [
        "# Regularization\n",
        "normalizer = tf.keras.layers.Normalization(axis=-1)\n",
        "normalizer.adapt(np.array(X_train))\n",
        "\n",
        "model = Sequential()\n",
        "model.add(normalizer)\n",
        "model.add(Dense(128, input_dim=18, activation='relu'))\n",
        "model.add(Dense(128, activation='relu', kernel_regularizer=\"l1\"))\n",
        "model.add(Dense(128, activation='relu', kernel_regularizer=\"l2\"))\n",
        "model.add(Dense(1))\n",
        "model.summary()"
      ]
    },
    {
      "cell_type": "code",
      "execution_count": 20,
      "metadata": {
        "id": "bnRVShe2ZVRd",
        "outputId": "fb5bbfba-efcd-4d12-ba31-427900c8da53"
      },
      "outputs": [
        {
          "name": "stdout",
          "output_type": "stream",
          "text": [
            "169/169 [==============================] - 0s 2ms/step - loss: 66726.0547\n"
          ]
        },
        {
          "data": {
            "image/png": "[encoded data removed]",
            "text/plain": [
              "<Figure size 640x480 with 1 Axes>"
            ]
          },
          "metadata": {},
          "output_type": "display_data"
        }
      ],
      "source": [
        "model.compile(loss='mean_absolute_error', optimizer=tf.optimizers.Adam(learning_rate=.01))\n",
        "train_log = model.fit(X_train, y_train, epochs=BASE_EPOCHS, batch_size=100, validation_split=.2, verbose=0)\n",
        "model.evaluate(X_test, y_test)\n",
        "plot_loss(train_log)"
      ]
    },
    {
      "attachments": {},
      "cell_type": "markdown",
      "metadata": {
        "id": "FXboQ7N2ZVRd"
      },
      "source": [
        "### Dropout\n",
        "\n",
        "Neural networks also commonly employ a technique call dropouts to prevent overfitting. This works just like the name says, every time the data is moved from one layer to another some portion of the features are randomly held out from being used. The intuitive explanation for dropout is that because individual nodes in the network cannot rely on the output of the others, each node must output features that are useful on their own. This sounds somewhat weird, but is actually effective. The number of features held out is called the dropout rate, typically between .2 and .5. \n",
        "\n",
        "![Dropout](images/dropout.webp \"Dropout\")\n",
        "\n",
        "An analogy can be drawn to the bootstrapping we looked at with trees - some random subset is selected each time, resulting in each batch getting \"a slightly different look at the data\", thus preventing overfitting. "
      ]
    },
    {
      "cell_type": "code",
      "execution_count": 21,
      "metadata": {
        "id": "gUJv1QPEZVRd",
        "outputId": "b6f5125b-b396-4dfd-9cd4-95d84f9c452e"
      },
      "outputs": [
        {
          "name": "stdout",
          "output_type": "stream",
          "text": [
            "Model: \"sequential_5\"\n",
            "_________________________________________________________________\n",
            " Layer (type)                Output Shape              Param #   \n",
            "=================================================================\n",
            " normalization_5 (Normalizat  (None, 18)               37        \n",
            " ion)                                                            \n",
            "                                                                 \n",
            " dense_18 (Dense)            (None, 512)               9728      \n",
            "                                                                 \n",
            " dense_19 (Dense)            (None, 512)               262656    \n",
            "                                                                 \n",
            " dropout (Dropout)           (None, 512)               0         \n",
            "                                                                 \n",
            " dense_20 (Dense)            (None, 512)               262656    \n",
            "                                                                 \n",
            " dropout_1 (Dropout)         (None, 512)               0         \n",
            "                                                                 \n",
            " dense_21 (Dense)            (None, 512)               262656    \n",
            "                                                                 \n",
            " dense_22 (Dense)            (None, 1)                 513       \n",
            "                                                                 \n",
            "=================================================================\n",
            "Total params: 798,246\n",
            "Trainable params: 798,209\n",
            "Non-trainable params: 37\n",
            "_________________________________________________________________\n"
          ]
        }
      ],
      "source": [
        "# Dropout\n",
        "#Test Different Model Capacities\n",
        "normalizer = tf.keras.layers.Normalization(axis=-1)\n",
        "normalizer.adapt(np.array(X_train))\n",
        "\n",
        "model = Sequential()\n",
        "model.add(normalizer)\n",
        "model.add(Dense(512, input_dim=18, activation='relu'))\n",
        "model.add(Dense(512, activation='relu'))\n",
        "model.add(Dropout(0.2))\n",
        "model.add(Dense(512, activation='relu'))\n",
        "model.add(Dropout(0.2))\n",
        "model.add(Dense(512, activation='relu'))\n",
        "model.add(Dense(1))\n",
        "model.summary()"
      ]
    },
    {
      "cell_type": "code",
      "execution_count": 22,
      "metadata": {
        "id": "EUJHDMXbZVRd",
        "outputId": "aff714cd-a820-49b3-8ede-e24737a275b7"
      },
      "outputs": [
        {
          "name": "stdout",
          "output_type": "stream",
          "text": [
            "169/169 [==============================] - 0s 2ms/step - loss: 66736.6250\n"
          ]
        },
        {
          "data": {
            "image/png": "[encoded data removed]",
            "text/plain": [
              "<Figure size 640x480 with 1 Axes>"
            ]
          },
          "metadata": {},
          "output_type": "display_data"
        }
      ],
      "source": [
        "model.compile(loss='mean_absolute_error', optimizer=tf.optimizers.Adam(learning_rate=.01))\n",
        "train_log = model.fit(X_train, y_train, epochs=BASE_EPOCHS, batch_size=100, validation_split=.2, verbose=0)\n",
        "model.evaluate(X_test, y_test)\n",
        "plot_loss(train_log)"
      ]
    },
    {
      "cell_type": "markdown",
      "metadata": {
        "id": "1AkcKFzNZVRd"
      },
      "source": [
        "### Predictions\n",
        "\n",
        "Once the model is trained, using it is mostly familiar to us from the sklearn stuff. "
      ]
    },
    {
      "cell_type": "code",
      "execution_count": 23,
      "metadata": {
        "id": "S-jw_zjdZVRe",
        "outputId": "0a3fbf07-c78c-4bea-fa3e-652875330375"
      },
      "outputs": [
        {
          "name": "stdout",
          "output_type": "stream",
          "text": [
            "169/169 [==============================] - 0s 2ms/step\n"
          ]
        },
        {
          "data": {
            "text/plain": [
              "66736.6256852563"
            ]
          },
          "execution_count": 23,
          "metadata": {},
          "output_type": "execute_result"
        }
      ],
      "source": [
        "preds = model.predict(X_test)\n",
        "mean_absolute_error(y_test, preds)\n"
      ]
    },
    {
      "cell_type": "markdown",
      "metadata": {
        "id": "5t9YyxGjZVRe"
      },
      "source": [
        "### Exercise\n",
        "\n",
        "Use the California data from previously and try to add some regularization things."
      ]
    },
    {
      "cell_type": "code",
      "execution_count": 24,
      "metadata": {},
      "outputs": [
        {
          "ename": "NameError",
          "evalue": "name 'X_train_cal' is not defined",
          "output_type": "error",
          "traceback": [
            "\u001b[1;31m---------------------------------------------------------------------------\u001b[0m",
            "\u001b[1;31mNameError\u001b[0m                                 Traceback (most recent call last)",
            "\u001b[1;32m~\\AppData\\Local\\Temp\\ipykernel_15240\\3892797978.py\u001b[0m in \u001b[0;36m<module>\u001b[1;34m\u001b[0m\n\u001b[1;32m----> 1\u001b[1;33m \u001b[0mprint\u001b[0m\u001b[1;33m(\u001b[0m\u001b[0mX_train_cal\u001b[0m\u001b[1;33m.\u001b[0m\u001b[0mshape\u001b[0m\u001b[1;33m,\u001b[0m \u001b[0my_train_cal\u001b[0m\u001b[1;33m.\u001b[0m\u001b[0mshape\u001b[0m\u001b[1;33m)\u001b[0m\u001b[1;33m\u001b[0m\u001b[1;33m\u001b[0m\u001b[0m\n\u001b[0m",
            "\u001b[1;31mNameError\u001b[0m: name 'X_train_cal' is not defined"
          ]
        }
      ],
      "source": [
        "print(X_train_cal.shape, y_train_cal.shape)"
      ]
    },
    {
      "attachments": {},
      "cell_type": "markdown",
      "metadata": {},
      "source": [
        "I'll mix in a couple of regularization things, this could be almost anything. "
      ]
    },
    {
      "cell_type": "code",
      "execution_count": null,
      "metadata": {
        "id": "yGstyyzcZVRe"
      },
      "outputs": [],
      "source": [
        "# Dropout\n",
        "#Test Different Model Capacities\n"
      ]
    },
    {
      "attachments": {},
      "cell_type": "markdown",
      "metadata": {
        "id": "FXYC8NGfZVRe"
      },
      "source": [
        "### Customized Loss\n",
        "\n",
        "Most scenarios are totally fine with a standard loss function, but what if we have something odd? What if we are playing on The Price is Right? We want to get as close as we can, without going over. We can write a loss function to mirror that! The Keras backend piece is basically a set of functions (like the \"switch\" we used, mean, sum, etc...) that are implemented in Tensorflow - they don't do anything differently from \"normal\" functions, but they are potentially more efficient.\n",
        "\n",
        "More practically, some real life scenarios have a disperse impact of different types of error. For example, if you are working for a call centre and predicting the number of agents to staff. Having slightly too many may be an error that costs a little bit of money, but not that big of a deal. Predicting too few might incur serious penalties if callers wait and you violate an SLA. Being off in one direction is bad, being off in the other direction can cause you to \"fall off of a cliff\" so to speak. In cases where the impact of the error is not uniform, custom loss functions may make sense. \n",
        "\n",
        "<b>Note:</b> these custom loss functions work, but if you are going to put one into real use, you would likely want to look into ensuring the calculations are efficient and that you actually get a tangible benefit from the custom loss function. This one is kind of a goofy example, we will normally just want to use a standard loss function. Due to the wild differences if the residual is positive or negative, this one will likely yeild some pretty dramatic swings and variability. "
      ]
    },
    {
      "cell_type": "markdown",
      "metadata": {
        "id": "hyN6IYzbZVRe"
      },
      "source": [
        "## Optional Exercise\n",
        "\n",
        "Try to use the California data with a customized loss function. \n",
        "\n",
        "Note: this is a 20 way classification, so you'll probably want that many neurons on the output layer, an appropriate activation (softmax), and the y values will need to be run through np_utils.to_categorical. As well, think about the loss function, try categorical crossentropy.\n",
        "\n",
        "We'll look at activation and loss functions more next week. "
      ]
    },
    {
      "cell_type": "code",
      "execution_count": null,
      "metadata": {
        "id": "GNjj1-aHZVRe"
      },
      "outputs": [],
      "source": [
        "import keras.backend as K\n",
        "\n",
        "def priceIsRight(y_true, y_pred):\n",
        "    return K.switch(\n",
        "                    y_pred <= y_true, \n",
        "                    (y_true - y_pred) ** 2,\n",
        "                    (y_true - y_pred) ** 4\n",
        "                    )"
      ]
    },
    {
      "cell_type": "code",
      "execution_count": null,
      "metadata": {},
      "outputs": [],
      "source": [
        "# Use Custom Function "
      ]
    },
    {
      "cell_type": "markdown",
      "metadata": {
        "id": "sAEhLMc6ZVRe"
      },
      "source": [
        "## Big Exercise - Newsgroup Classification\n",
        "\n",
        "Try to classify the newsgroup data. "
      ]
    },
    {
      "cell_type": "code",
      "execution_count": null,
      "metadata": {
        "id": "pCHlBNRQZVRe"
      },
      "outputs": [],
      "source": [
        "from sklearn.datasets import fetch_20newsgroups\n",
        "from sklearn.feature_extraction.text import TfidfVectorizer\n",
        "from sklearn.decomposition import TruncatedSVD\n",
        "\n",
        "remove = (\"headers\", \"footers\", \"quotes\")\n",
        "\n",
        "data_train = fetch_20newsgroups(\n",
        "    subset=\"train\", shuffle=True, remove=remove)\n",
        "\n",
        "data_test = fetch_20newsgroups(\n",
        "    subset=\"test\", shuffle=True, remove=remove)"
      ]
    },
    {
      "cell_type": "code",
      "execution_count": null,
      "metadata": {
        "colab": {
          "base_uri": "https://localhost:8080/"
        },
        "id": "N1e1Iq4hZVRe",
        "outputId": "e2d62827-98eb-4a5b-87ea-e91475bd0b43"
      },
      "outputs": [],
      "source": [
        "news_tf = TfidfVectorizer(sublinear_tf=True, ngram_range=(1,3), stop_words=\"english\", strip_accents=\"unicode\")\n",
        "X_train = news_tf.fit_transform(data_train.data)\n",
        "y_train = data_train.target\n",
        "X_test = news_tf.transform(data_test.data)\n",
        "y_test = data_test.target\n",
        "print(\"Train:\", X_train.shape, \"  Test:\", X_test.shape)"
      ]
    },
    {
      "cell_type": "code",
      "execution_count": null,
      "metadata": {},
      "outputs": [],
      "source": [
        "# Modelling"
      ]
    },
    {
      "attachments": {},
      "cell_type": "markdown",
      "metadata": {},
      "source": [
        "## Neural Network Tuning Summary vs Reality\n",
        "\n",
        "The techniques above generally expose a pattern that we can use to make accurate models:\n",
        "<ul>\n",
        "<li> Create a model that is accurate and overfitted. (Or setup process to generate an overfitted model)\n",
        "<li> Use hyperparameter tuning-ish methods to trial several different models. \n",
        "<li> Use tools such as regularization and early stopping to \"trim\" the overfitting back. \n",
        "</ul>\n",
        "\n",
        "For the most part, for what we are doing, this will probably work fine, without forcing us to put a tonne of thought into things upfront; we can just make a large model, then reduce it. In practice the main downside to this type of brute force approach is time, and by extension, cost. For us the datasets are mostly small enough that in an extreme case we could do something like setup a bunch of trials, let our computer train and test overnight, and wake up to a model that is pretty good. If our data was scaled up by a factor of 10,000 this becomes less practical. We would want to sample the data to make each trial run much more quickly, but we'd still be dealing with a non-trivial amount of processing time for each model that we want to try. Doing things that reduce the processing requirements of each epoch, such as feature selection, choosing a \"correctly\" sized model, or smart sets of hyperparameters to try, will reduce the amount of \"bad\" trials, and allow us to dedicate more time to \"good\" trials. This is one of the, relatively rare, scenarios that paying attention to processing time can have massive impacts on the end results. We'll look more at making a good sized model next. "
      ]
    }
  ],
  "metadata": {
    "accelerator": "GPU",
    "colab": {
      "name": "022_keras_tensor_sol.ipynb",
      "provenance": []
    },
    "interpreter": {
      "hash": "4d722d3adfa415172c1f5238b519fb86b488acdae450fd691ab06c09f4ca9173"
    },
    "kernelspec": {
      "display_name": "Python 3.9.7 ('ml3950')",
      "language": "python",
      "name": "python3"
    },
    "language_info": {
      "codemirror_mode": {
        "name": "ipython",
        "version": 3
      },
      "file_extension": ".py",
      "mimetype": "text/x-python",
      "name": "python",
      "nbconvert_exporter": "python",
      "pygments_lexer": "ipython3",
      "version": "3.9.13"
    },
    "orig_nbformat": 4
  },
  "nbformat": 4,
  "nbformat_minor": 0
}
