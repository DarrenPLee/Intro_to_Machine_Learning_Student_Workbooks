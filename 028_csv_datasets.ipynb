{
 "cells": [
  {
   "cell_type": "code",
   "execution_count": 9,
   "metadata": {},
   "outputs": [],
   "source": [
    "import tensorflow as tf\n",
    "import numpy as np\n",
    "import csv\n",
    "import time\n",
    "import pandas as pd\n",
    "from sklearn.model_selection import train_test_split\n",
    "from tensorflow.keras.utils import to_categorical\n",
    "from sklearn.model_selection import train_test_split\n",
    "from tensorflow.keras.utils import Sequence\n",
    "import os\n",
    "import zipfile\n",
    "\n",
    "try:\n",
    "  import google.colab\n",
    "  IN_COLAB = True\n",
    "except:\n",
    "  IN_COLAB = False"
   ]
  },
  {
   "attachments": {},
   "cell_type": "markdown",
   "metadata": {},
   "source": [
    "# Large Structured Data\n",
    "\n",
    "When dealing with large amounts of structured text data we can also do some stuff to speed things up, though there are some key differences that lessen our toolkit:\n",
    "<ul>\n",
    "<li> Data manipulation (filtering out features, customized data cleanup, etc...) is far easier to do in a tabular format like a dataframe. If there is going to be a lot of that, and the data is really large, we can do the 'manual' prep separately, write the data to a file, and then read it in again as ready-to-use data. </li>\n",
    "<li> As the data gets really large, most real life scenarios will either use big data approaches like Spark, or store structured data in a DB. That's the 'real' way to deal with large amounts of strucutred data, so there are not as many easy to use tools for this as we find with images. </li>\n",
    "<li> Further to the two ponts above, if the dataset is a CSV, we can likely load it into memory in its entirety as \"too many rows to fit in memory\" and \"this data is stored in a CSV file\" tend not to come around together all that often in a situation where there is actual infrastructure. </li>\n",
    "<li> Really large amounts of text can be broken into multiple smaller files, then we load a file at a time, similar to how we deal with images. This is common with NLP text, much more so than structured data. </li>\n",
    "<li> There is often an assumption that when needing to deal with large amounts of structured CSV data that we have the data already split into training and validation sets. This makes sense, as \n",
    "</ul>\n",
    "\n",
    "On the whole, dealing with large amounts of structured data tends to not be as large of an issue to be solved as dealing with large amounts of unstrucutured data in a non-big data environment. This is because huge data goes to big data strategies, or at least a DB, less huge data can just fit in memory and be dealt with how we have dealt with all other CSV based data. \n",
    "\n",
    "## TensorFlow Datasets\n",
    "\n",
    "Tensorflow Datasets are something that we used when loading image files from disk, as loading all of the data at once can be impossible for larger datasets. These datasets serve the same function as a regular dataframe for modle training purposes, but they are designed more to be able to efficiently load large amounts of data from disk than to allow easy viewing and manipulation of the data. \n",
    "\n",
    "Tensorflow datasets allow us to set several options on how the data is loaded, that we can use to make a dataset that is more efficient for our purposes."
   ]
  },
  {
   "attachments": {},
   "cell_type": "markdown",
   "metadata": {},
   "source": [
    "## Dataset for Structured CSV\n",
    "\n",
    "The function below reads CSV data from disk and generates training and validation datasets that we can feed to our model. We also add batching, shuffle the training data, and use prefetch to make the data loading process more efficient."
   ]
  },
  {
   "cell_type": "code",
   "execution_count": 10,
   "metadata": {},
   "outputs": [],
   "source": [
    "# Define a function to load the CSV data and create a tf.data.Dataset object\n",
    "def create_dataset(csv_path, batch_size=32, buffer_size=1024, validation_split=0.2, shuffle=True, start=None):\n",
    "    # Load the CSV data\n",
    "    with open(csv_path) as f:\n",
    "        csv_reader = csv.reader(f)\n",
    "        header = next(csv_reader)\n",
    "        feature_names = header[start:-1]\n",
    "        label_name = header[-1]\n",
    "        features = []\n",
    "        labels = []\n",
    "        for row in csv_reader:\n",
    "            features.append([float(x) for x in row[start:-1]])\n",
    "            labels.append(float(row[-1]))\n",
    "    features = np.array(features)\n",
    "    labels = np.array(labels)\n",
    "\n",
    "    # Split the data into training and validation sets\n",
    "    split_idx = int(len(features) * (1.0 - validation_split))\n",
    "    train_features, train_labels = features[:split_idx], labels[:split_idx]\n",
    "    val_features, val_labels = features[split_idx:], labels[split_idx:]\n",
    "\n",
    "    # Create a tf.data.Dataset object for the training data\n",
    "    train_ds = tf.data.Dataset.from_tensor_slices((train_features, train_labels))\n",
    "    train_ds = train_ds.cache()\n",
    "    if shuffle:\n",
    "        train_ds = train_ds.shuffle(buffer_size=buffer_size)\n",
    "    train_ds = train_ds.batch(batch_size)\n",
    "\n",
    "    # Create a tf.data.Dataset object for the validation data\n",
    "    val_ds = tf.data.Dataset.from_tensor_slices((val_features, val_labels)).prefetch(tf.data.experimental.AUTOTUNE)\n",
    "    val_ds = val_ds.cache()\n",
    "    val_ds = val_ds.batch(batch_size).prefetch(tf.data.experimental.AUTOTUNE)\n",
    "\n",
    "    return train_ds, val_ds\n",
    "\n",
    "BASE_EPOCHS  = 20\n",
    "VAL_SPLIT = 0.2\n",
    "DIABETES_CSV_PATH = 'diabetes.csv'\n",
    "BATCH_SIZE = 2048"
   ]
  },
  {
   "cell_type": "code",
   "execution_count": 11,
   "metadata": {},
   "outputs": [
    {
     "name": "stdout",
     "output_type": "stream",
     "text": [
      "C:\\Users\\dlee2\\.keras\\datasets\\diabetes.csv\n"
     ]
    }
   ],
   "source": [
    "if not os.path.exists(DIABETES_CSV_PATH):\n",
    "    url = 'https://jrssbcrsefilesnait.blob.core.windows.net/3950data1/diabetes.csv'\n",
    "    d_path = tf.keras.utils.get_file(origin=url, extract=True, archive_format='auto')\n",
    "    print(d_path)"
   ]
  },
  {
   "attachments": {},
   "cell_type": "markdown",
   "metadata": {},
   "source": [
    "#### Simple and Small Example\n",
    "\n",
    "We can test the generator on a small file. \n",
    "\n",
    "<b>Note:</b> with small examples, we won't really see any advantage in terms of speed as we can probably just load the data into memory without concern, no matter what. This starts to matter more when dealing with large files, where the disk access time can actually add up. "
   ]
  },
  {
   "cell_type": "code",
   "execution_count": 12,
   "metadata": {},
   "outputs": [
    {
     "name": "stdout",
     "output_type": "stream",
     "text": [
      "Epoch 1/20\n",
      "20/20 [==============================] - 0s 7ms/step - loss: 2.8954 - accuracy: 0.5863 - val_loss: 2.1508 - val_accuracy: 0.6818\n",
      "Epoch 2/20\n",
      "20/20 [==============================] - 0s 3ms/step - loss: 1.3967 - accuracy: 0.6401 - val_loss: 2.1906 - val_accuracy: 0.4221\n",
      "Epoch 3/20\n",
      "20/20 [==============================] - 0s 3ms/step - loss: 1.4003 - accuracy: 0.5570 - val_loss: 1.3516 - val_accuracy: 0.6623\n",
      "Epoch 4/20\n",
      "20/20 [==============================] - 0s 3ms/step - loss: 0.9058 - accuracy: 0.6450 - val_loss: 0.7224 - val_accuracy: 0.6818\n",
      "Epoch 5/20\n",
      "20/20 [==============================] - 0s 3ms/step - loss: 0.9623 - accuracy: 0.6450 - val_loss: 0.8844 - val_accuracy: 0.5130\n",
      "Epoch 6/20\n",
      "20/20 [==============================] - 0s 4ms/step - loss: 0.7200 - accuracy: 0.6775 - val_loss: 1.0090 - val_accuracy: 0.4351\n",
      "Epoch 7/20\n",
      "20/20 [==============================] - 0s 3ms/step - loss: 0.9003 - accuracy: 0.6482 - val_loss: 0.7204 - val_accuracy: 0.7143\n",
      "Epoch 8/20\n",
      "20/20 [==============================] - 0s 3ms/step - loss: 0.6882 - accuracy: 0.6645 - val_loss: 0.7456 - val_accuracy: 0.6948\n",
      "Epoch 9/20\n",
      "20/20 [==============================] - 0s 3ms/step - loss: 0.8075 - accuracy: 0.6612 - val_loss: 1.1221 - val_accuracy: 0.6753\n",
      "Epoch 10/20\n",
      "20/20 [==============================] - 0s 3ms/step - loss: 0.7806 - accuracy: 0.6450 - val_loss: 0.8818 - val_accuracy: 0.6753\n",
      "Epoch 11/20\n",
      "20/20 [==============================] - 0s 4ms/step - loss: 0.6718 - accuracy: 0.6938 - val_loss: 0.7740 - val_accuracy: 0.6688\n",
      "Epoch 12/20\n",
      "20/20 [==============================] - 0s 4ms/step - loss: 0.5967 - accuracy: 0.7264 - val_loss: 0.6939 - val_accuracy: 0.6039\n",
      "Epoch 13/20\n",
      "20/20 [==============================] - 0s 4ms/step - loss: 0.6536 - accuracy: 0.6661 - val_loss: 0.6931 - val_accuracy: 0.6299\n",
      "Epoch 14/20\n",
      "20/20 [==============================] - 0s 4ms/step - loss: 0.6020 - accuracy: 0.6971 - val_loss: 0.6678 - val_accuracy: 0.6429\n",
      "Epoch 15/20\n",
      "20/20 [==============================] - 0s 4ms/step - loss: 0.5554 - accuracy: 0.7199 - val_loss: 0.6398 - val_accuracy: 0.6623\n",
      "Epoch 16/20\n",
      "20/20 [==============================] - 0s 4ms/step - loss: 0.6576 - accuracy: 0.6759 - val_loss: 1.0405 - val_accuracy: 0.6623\n",
      "Epoch 17/20\n",
      "20/20 [==============================] - 0s 4ms/step - loss: 0.7562 - accuracy: 0.6792 - val_loss: 0.8999 - val_accuracy: 0.6623\n",
      "Epoch 18/20\n",
      "20/20 [==============================] - 0s 3ms/step - loss: 0.7253 - accuracy: 0.6743 - val_loss: 1.0509 - val_accuracy: 0.6558\n",
      "Epoch 19/20\n",
      "20/20 [==============================] - 0s 3ms/step - loss: 0.6711 - accuracy: 0.7052 - val_loss: 0.7028 - val_accuracy: 0.6948\n",
      "Epoch 20/20\n",
      "20/20 [==============================] - 0s 3ms/step - loss: 0.6083 - accuracy: 0.7166 - val_loss: 0.8530 - val_accuracy: 0.6818\n",
      "DS Training time: 1.9123480319976807 seconds\n"
     ]
    }
   ],
   "source": [
    "# Load the CSV data and create the tf.data.Dataset objects\n",
    "train_ds, val_ds = create_dataset(d_path, batch_size=BATCH_SIZE)\n",
    "\n",
    "# Define the model\n",
    "model = tf.keras.Sequential([\n",
    "    tf.keras.layers.Dense(64, activation='relu'),\n",
    "    tf.keras.layers.Dense(64, activation='relu'),\n",
    "    tf.keras.layers.Dense(1, activation='sigmoid')\n",
    "])\n",
    "\n",
    "# Compile the model\n",
    "model.compile(optimizer=tf.keras.optimizers.Adam(),\n",
    "              loss=tf.keras.losses.BinaryCrossentropy(),\n",
    "              metrics=\"accuracy\")\n",
    "\n",
    "# Fit the model to the data\n",
    "start = time.time()\n",
    "model.fit(train_ds, epochs=BASE_EPOCHS, validation_data=val_ds)\n",
    "end = time.time()\n",
    "print(\"DS Training time: {} seconds\".format(end - start))"
   ]
  },
  {
   "cell_type": "code",
   "execution_count": 13,
   "metadata": {},
   "outputs": [
    {
     "name": "stdout",
     "output_type": "stream",
     "text": [
      "Epoch 1/20\n",
      "20/20 [==============================] - 0s 9ms/step - loss: 4.3519 - accuracy: 0.5717 - val_loss: 1.7162 - val_accuracy: 0.5130\n",
      "Epoch 2/20\n",
      "20/20 [==============================] - 0s 4ms/step - loss: 1.0325 - accuracy: 0.6124 - val_loss: 1.1296 - val_accuracy: 0.5455\n",
      "Epoch 3/20\n",
      "20/20 [==============================] - 0s 4ms/step - loss: 0.7184 - accuracy: 0.6596 - val_loss: 0.8978 - val_accuracy: 0.6948\n",
      "Epoch 4/20\n",
      "20/20 [==============================] - 0s 4ms/step - loss: 0.8793 - accuracy: 0.6173 - val_loss: 0.7459 - val_accuracy: 0.6883\n",
      "Epoch 5/20\n",
      "20/20 [==============================] - 0s 4ms/step - loss: 0.6288 - accuracy: 0.6922 - val_loss: 0.7098 - val_accuracy: 0.5779\n",
      "Epoch 6/20\n",
      "20/20 [==============================] - 0s 4ms/step - loss: 0.6348 - accuracy: 0.6840 - val_loss: 0.6545 - val_accuracy: 0.6688\n",
      "Epoch 7/20\n",
      "20/20 [==============================] - 0s 4ms/step - loss: 0.6287 - accuracy: 0.7134 - val_loss: 0.6862 - val_accuracy: 0.6364\n",
      "Epoch 8/20\n",
      "20/20 [==============================] - 0s 4ms/step - loss: 0.5670 - accuracy: 0.7150 - val_loss: 0.6410 - val_accuracy: 0.6429\n",
      "Epoch 9/20\n",
      "20/20 [==============================] - 0s 4ms/step - loss: 0.5644 - accuracy: 0.7313 - val_loss: 0.6179 - val_accuracy: 0.6494\n",
      "Epoch 10/20\n",
      "20/20 [==============================] - 0s 4ms/step - loss: 0.5440 - accuracy: 0.7362 - val_loss: 0.7750 - val_accuracy: 0.5390\n",
      "Epoch 11/20\n",
      "20/20 [==============================] - 0s 4ms/step - loss: 0.5444 - accuracy: 0.7166 - val_loss: 0.6640 - val_accuracy: 0.6429\n",
      "Epoch 12/20\n",
      "20/20 [==============================] - 0s 4ms/step - loss: 0.6010 - accuracy: 0.7134 - val_loss: 0.6687 - val_accuracy: 0.6883\n",
      "Epoch 13/20\n",
      "20/20 [==============================] - 0s 4ms/step - loss: 0.8112 - accuracy: 0.6710 - val_loss: 0.6568 - val_accuracy: 0.6688\n",
      "Epoch 14/20\n",
      "20/20 [==============================] - 0s 5ms/step - loss: 0.6275 - accuracy: 0.7085 - val_loss: 1.0420 - val_accuracy: 0.6494\n",
      "Epoch 15/20\n",
      "20/20 [==============================] - 0s 4ms/step - loss: 0.6190 - accuracy: 0.6971 - val_loss: 0.6997 - val_accuracy: 0.6494\n",
      "Epoch 16/20\n",
      "20/20 [==============================] - 0s 4ms/step - loss: 0.5354 - accuracy: 0.7296 - val_loss: 0.6136 - val_accuracy: 0.6688\n",
      "Epoch 17/20\n",
      "20/20 [==============================] - 0s 4ms/step - loss: 0.5879 - accuracy: 0.6906 - val_loss: 0.7612 - val_accuracy: 0.6169\n",
      "Epoch 18/20\n",
      "20/20 [==============================] - 0s 4ms/step - loss: 0.5640 - accuracy: 0.7345 - val_loss: 0.6928 - val_accuracy: 0.6299\n",
      "Epoch 19/20\n",
      "20/20 [==============================] - 0s 4ms/step - loss: 0.5758 - accuracy: 0.7280 - val_loss: 1.2678 - val_accuracy: 0.4610\n",
      "Epoch 20/20\n",
      "20/20 [==============================] - 0s 4ms/step - loss: 0.7773 - accuracy: 0.6596 - val_loss: 1.1998 - val_accuracy: 0.4805\n",
      "DS Training time: 2.0412747859954834 seconds\n"
     ]
    }
   ],
   "source": [
    "# Time dataframe for comparison\n",
    "df_small = pd.read_csv(d_path)\n",
    "df_small_y = df_small[\"Outcome\"]\n",
    "df_small_X = df_small.drop(columns=[\"Outcome\"])\n",
    "width = df_small_X.shape[1]\n",
    "# Define the model\n",
    "model = tf.keras.Sequential([\n",
    "    tf.keras.layers.InputLayer(input_shape=(width,)),\n",
    "    tf.keras.layers.Dense(64, activation='relu'),\n",
    "    tf.keras.layers.Dense(64, activation='relu'),\n",
    "    tf.keras.layers.Dense(1, activation='sigmoid')\n",
    "])\n",
    "\n",
    "# Compile the model\n",
    "\n",
    "model.compile(optimizer=tf.keras.optimizers.Adam(),\n",
    "              loss=tf.keras.losses.BinaryCrossentropy(),\n",
    "              metrics=\"accuracy\")\n",
    "# Fit the model to the data\n",
    "start = time.time()\n",
    "model.fit(x=df_small_X, y=df_small_y, epochs=BASE_EPOCHS, validation_split=0.2, batch_size=BATCH_SIZE)\n",
    "end = time.time()\n",
    "print(\"DS Training time: {} seconds\".format(end - start))"
   ]
  },
  {
   "attachments": {},
   "cell_type": "markdown",
   "metadata": {},
   "source": [
    "#### Larger Example\n",
    "\n",
    "We can download a larger file, and try it out. We ill also use the .cache() method to cache the data in memory, so that we don't have to reload it every time we run the code. This CSV file is roughly 150mb in size, so it is large enough to be noticable when we need to load the entire thing, but small enough to fit in memory. For most CSV data that we might encounter, this is probably a good approach - most systems can handle the memory demands of the CSV file size we might see. "
   ]
  },
  {
   "cell_type": "code",
   "execution_count": 14,
   "metadata": {},
   "outputs": [
    {
     "name": "stdout",
     "output_type": "stream",
     "text": [
      "C:\\Users\\dlee2\\.keras\\datasets\\creditcard.csv\n"
     ]
    }
   ],
   "source": [
    "# Download the file\n",
    "\n",
    "zip_name = 'fraud.zip'\n",
    "if not os.path.exists(zip_name):\n",
    "    url = 'https://jrssbcrsefilesnait.blob.core.windows.net/3950data1/creditcard.csv'\n",
    "    zip_path = tf.keras.utils.get_file(origin=url, extract=True, archive_format='auto')\n",
    "    print(zip_path)"
   ]
  },
  {
   "cell_type": "code",
   "execution_count": 15,
   "metadata": {},
   "outputs": [
    {
     "name": "stdout",
     "output_type": "stream",
     "text": [
      "Epoch 1/20\n",
      "112/112 [==============================] - 2s 11ms/step - loss: 0.0592 - accuracy: 0.9982 - val_loss: 0.0109 - val_accuracy: 0.9994\n",
      "Epoch 2/20\n",
      "112/112 [==============================] - 1s 7ms/step - loss: 0.0229 - accuracy: 0.9990 - val_loss: 0.0304 - val_accuracy: 0.9992\n",
      "Epoch 3/20\n",
      "112/112 [==============================] - 1s 6ms/step - loss: 0.0131 - accuracy: 0.9992 - val_loss: 0.0051 - val_accuracy: 0.9996\n",
      "Epoch 4/20\n",
      "112/112 [==============================] - 1s 6ms/step - loss: 0.0053 - accuracy: 0.9993 - val_loss: 0.0043 - val_accuracy: 0.9996\n",
      "Epoch 5/20\n",
      "112/112 [==============================] - 1s 6ms/step - loss: 0.0044 - accuracy: 0.9993 - val_loss: 0.0041 - val_accuracy: 0.9996\n",
      "Epoch 6/20\n",
      "112/112 [==============================] - 1s 6ms/step - loss: 0.0046 - accuracy: 0.9992 - val_loss: 0.0039 - val_accuracy: 0.9996\n",
      "Epoch 7/20\n",
      "112/112 [==============================] - 1s 6ms/step - loss: 0.0038 - accuracy: 0.9993 - val_loss: 0.0042 - val_accuracy: 0.9996\n",
      "Epoch 8/20\n",
      "112/112 [==============================] - 1s 6ms/step - loss: 0.0037 - accuracy: 0.9993 - val_loss: 0.0043 - val_accuracy: 0.9996\n",
      "Epoch 9/20\n",
      "112/112 [==============================] - 1s 6ms/step - loss: 0.0059 - accuracy: 0.9992 - val_loss: 0.0079 - val_accuracy: 0.9994\n",
      "Epoch 10/20\n",
      "112/112 [==============================] - 1s 6ms/step - loss: 0.0057 - accuracy: 0.9994 - val_loss: 0.0045 - val_accuracy: 0.9996\n",
      "Epoch 11/20\n",
      "112/112 [==============================] - 1s 7ms/step - loss: 0.0060 - accuracy: 0.9993 - val_loss: 0.0030 - val_accuracy: 0.9996\n",
      "Epoch 12/20\n",
      "112/112 [==============================] - 1s 7ms/step - loss: 0.0036 - accuracy: 0.9994 - val_loss: 0.0046 - val_accuracy: 0.9996\n",
      "Epoch 13/20\n",
      "112/112 [==============================] - 1s 6ms/step - loss: 0.0033 - accuracy: 0.9994 - val_loss: 0.0046 - val_accuracy: 0.9996\n",
      "Epoch 14/20\n",
      "112/112 [==============================] - 1s 6ms/step - loss: 0.0036 - accuracy: 0.9995 - val_loss: 0.0043 - val_accuracy: 0.9996\n",
      "Epoch 15/20\n",
      "112/112 [==============================] - 1s 6ms/step - loss: 0.0035 - accuracy: 0.9994 - val_loss: 0.0037 - val_accuracy: 0.9996\n",
      "Epoch 16/20\n",
      "112/112 [==============================] - 1s 6ms/step - loss: 0.0034 - accuracy: 0.9994 - val_loss: 0.0045 - val_accuracy: 0.9995\n",
      "Epoch 17/20\n",
      "112/112 [==============================] - 1s 6ms/step - loss: 0.0036 - accuracy: 0.9995 - val_loss: 0.0037 - val_accuracy: 0.9996\n",
      "Epoch 18/20\n",
      "112/112 [==============================] - 1s 6ms/step - loss: 0.0032 - accuracy: 0.9994 - val_loss: 0.0040 - val_accuracy: 0.9996\n",
      "Epoch 19/20\n",
      "112/112 [==============================] - 1s 6ms/step - loss: 0.0037 - accuracy: 0.9994 - val_loss: 0.0045 - val_accuracy: 0.9995\n",
      "Epoch 20/20\n",
      "112/112 [==============================] - 1s 6ms/step - loss: 0.0078 - accuracy: 0.9993 - val_loss: 0.0048 - val_accuracy: 0.9995\n",
      "Time to fit:  15.416515350341797\n"
     ]
    }
   ],
   "source": [
    "#big_file = \"/Users/akeems/.keras/datasets/creditcard.csv\"\n",
    "big_file = zip_path\n",
    "# Load the CSV data and create the tf.data.Dataset objects\n",
    "train_ds, val_ds = create_dataset(big_file, start=1, batch_size=BATCH_SIZE)\n",
    "\n",
    "# Define the model\n",
    "model = tf.keras.Sequential([\n",
    "    tf.keras.layers.Dense(64, activation='relu'),\n",
    "    tf.keras.layers.Dense(64, activation='relu'),\n",
    "    tf.keras.layers.Dense(1, activation='sigmoid')\n",
    "])\n",
    "\n",
    "# Compile the model\n",
    "model.compile(optimizer=tf.keras.optimizers.Adam(),\n",
    "              loss=tf.keras.losses.BinaryCrossentropy(),\n",
    "              metrics=\"accuracy\")\n",
    "\n",
    "# Fit the model to the data\n",
    "# time the fit\n",
    "\n",
    "start = time.time()\n",
    "model.fit(train_ds, epochs=BASE_EPOCHS, validation_data=val_ds)\n",
    "end = time.time()\n",
    "print(\"Time to fit: \", end - start)"
   ]
  },
  {
   "attachments": {},
   "cell_type": "markdown",
   "metadata": {},
   "source": [
    "#### Dataframe for Comparison"
   ]
  },
  {
   "cell_type": "code",
   "execution_count": 16,
   "metadata": {},
   "outputs": [
    {
     "name": "stdout",
     "output_type": "stream",
     "text": [
      "Epoch 1/20\n",
      "112/112 [==============================] - 1s 6ms/step - loss: 207.5805 - accuracy: 0.9536 - val_loss: 30.9053 - val_accuracy: 0.9987\n",
      "Epoch 2/20\n",
      "112/112 [==============================] - 1s 4ms/step - loss: 17.3786 - accuracy: 0.9982 - val_loss: 26.5689 - val_accuracy: 0.9987\n",
      "Epoch 3/20\n",
      "112/112 [==============================] - 0s 4ms/step - loss: 14.3363 - accuracy: 0.9982 - val_loss: 21.0304 - val_accuracy: 0.9987\n",
      "Epoch 4/20\n",
      "112/112 [==============================] - 0s 4ms/step - loss: 14.7570 - accuracy: 0.9893 - val_loss: 34.7580 - val_accuracy: 0.9987\n",
      "Epoch 5/20\n",
      "112/112 [==============================] - 0s 4ms/step - loss: 18.6669 - accuracy: 0.9982 - val_loss: 26.9141 - val_accuracy: 0.9987\n",
      "Epoch 6/20\n",
      "112/112 [==============================] - 0s 4ms/step - loss: 14.1496 - accuracy: 0.9889 - val_loss: 39.4604 - val_accuracy: 0.9987\n",
      "Epoch 7/20\n",
      "112/112 [==============================] - 0s 4ms/step - loss: 28.8822 - accuracy: 0.9982 - val_loss: 41.9838 - val_accuracy: 0.9987\n",
      "Epoch 8/20\n",
      "112/112 [==============================] - 0s 4ms/step - loss: 16.3509 - accuracy: 0.9980 - val_loss: 5.1927 - val_accuracy: 0.9987\n",
      "Epoch 9/20\n",
      "112/112 [==============================] - 0s 4ms/step - loss: 31.6747 - accuracy: 0.9889 - val_loss: 59.8260 - val_accuracy: 0.9987\n",
      "Epoch 10/20\n",
      "112/112 [==============================] - 0s 4ms/step - loss: 30.2903 - accuracy: 0.9982 - val_loss: 42.0717 - val_accuracy: 0.9987\n",
      "Epoch 11/20\n",
      "112/112 [==============================] - 0s 4ms/step - loss: 19.5324 - accuracy: 0.9981 - val_loss: 24.1900 - val_accuracy: 0.9987\n",
      "Epoch 12/20\n",
      "112/112 [==============================] - 0s 4ms/step - loss: 9.0177 - accuracy: 0.9978 - val_loss: 6.7528 - val_accuracy: 0.9987\n",
      "Epoch 13/20\n",
      "112/112 [==============================] - 0s 4ms/step - loss: 0.8620 - accuracy: 0.9948 - val_loss: 0.0500 - val_accuracy: 0.9995\n",
      "Epoch 14/20\n",
      "112/112 [==============================] - 0s 4ms/step - loss: 0.8706 - accuracy: 0.9950 - val_loss: 0.4135 - val_accuracy: 0.9987\n",
      "Epoch 15/20\n",
      "112/112 [==============================] - 0s 4ms/step - loss: 0.1984 - accuracy: 0.9955 - val_loss: 0.1354 - val_accuracy: 0.9992\n",
      "Epoch 16/20\n",
      "112/112 [==============================] - 0s 3ms/step - loss: 0.1757 - accuracy: 0.9963 - val_loss: 0.1785 - val_accuracy: 0.9989\n",
      "Epoch 17/20\n",
      "112/112 [==============================] - 0s 3ms/step - loss: 0.1534 - accuracy: 0.9969 - val_loss: 0.0447 - val_accuracy: 0.9995\n",
      "Epoch 18/20\n",
      "112/112 [==============================] - 0s 3ms/step - loss: 0.6736 - accuracy: 0.9968 - val_loss: 6.7063 - val_accuracy: 0.9987\n",
      "Epoch 19/20\n",
      "112/112 [==============================] - 0s 3ms/step - loss: 5.3682 - accuracy: 0.9965 - val_loss: 10.0941 - val_accuracy: 0.9987\n",
      "Epoch 20/20\n",
      "112/112 [==============================] - 0s 3ms/step - loss: 1.0444 - accuracy: 0.9965 - val_loss: 0.0945 - val_accuracy: 0.9992\n",
      "Time to fit:  9.486615180969238\n"
     ]
    }
   ],
   "source": [
    "df_large = pd.read_csv(big_file)\n",
    "df_large_y = df_large[\"Class\"]\n",
    "df_large_X = df_large.drop(columns={\"Class\"})\n",
    "width = df_large_X.shape[1]\n",
    "# Define the model\n",
    "model = tf.keras.Sequential([\n",
    "    tf.keras.layers.InputLayer(input_shape=(width,)),\n",
    "    tf.keras.layers.Dense(64, activation='relu'),\n",
    "    tf.keras.layers.Dense(64, activation='relu'),\n",
    "    tf.keras.layers.Dense(1, activation='sigmoid')\n",
    "])\n",
    "\n",
    "# Compile the model\n",
    "model.compile(optimizer=tf.keras.optimizers.Adam(),\n",
    "                loss=tf.keras.losses.BinaryCrossentropy(),\n",
    "                metrics=\"accuracy\")\n",
    "\n",
    "# Fit the model to the data\n",
    "# time the fit\n",
    "start = time.time()\n",
    "model.fit(x=df_large_X, y=df_large_y, epochs=BASE_EPOCHS, validation_split=VAL_SPLIT, batch_size=BATCH_SIZE)\n",
    "end = time.time()\n",
    "print(\"Time to fit: \", end - start)"
   ]
  },
  {
   "attachments": {},
   "cell_type": "markdown",
   "metadata": {},
   "source": [
    "### Dataframe to Dataset\n",
    "\n",
    "If we have a dataframe we can convert it to a dataset using the from_tensor_slices() method. Manipulating the data in a dataframe is far easier, so we can prep in a df then convert to a dataset. The function below creates a dataset from a dataframe, long with a few of the other things we commonly want to do in our data prep. "
   ]
  },
  {
   "cell_type": "code",
   "execution_count": 17,
   "metadata": {},
   "outputs": [],
   "source": [
    "def get_keras_dataset(df, target=\"target\", val_split=0.2, batch_size=32):\n",
    "    # Splitting the dataframe into training and validation sets\n",
    "    train_df, val_df = train_test_split(df, test_size=val_split, random_state=42)\n",
    "\n",
    "    # Extracting the target variable from the dataframes\n",
    "    train_y = train_df.pop(target)\n",
    "    val_y = val_df.pop(target)\n",
    "\n",
    "    # Converting the target variable to categorical if necessary\n",
    "    num_classes = len(train_y.unique())\n",
    "    if num_classes > 2:\n",
    "        train_y = to_categorical(train_y, num_classes)\n",
    "        val_y = to_categorical(val_y, num_classes)\n",
    "\n",
    "    # Creating a tf.data.Dataset for training and validation sets\n",
    "    train_ds = tf.data.Dataset.from_tensor_slices((train_df.values, train_y))\n",
    "    val_ds = tf.data.Dataset.from_tensor_slices((val_df.values, val_y))\n",
    "\n",
    "    train_ds =train_ds.cache()\n",
    "    val_ds = val_ds.cache()\n",
    "\n",
    "    # Shuffling and batching the datasets\n",
    "    train_ds = train_ds.shuffle(len(train_df)).batch(batch_size).prefetch(tf.data.experimental.AUTOTUNE)\n",
    "    val_ds = val_ds.batch(batch_size).prefetch(tf.data.experimental.AUTOTUNE)\n",
    "\n",
    "    return train_ds, val_ds"
   ]
  },
  {
   "cell_type": "code",
   "execution_count": 18,
   "metadata": {},
   "outputs": [
    {
     "name": "stdout",
     "output_type": "stream",
     "text": [
      "Epoch 1/20\n",
      "112/112 [==============================] - 1s 5ms/step - loss: 30.6582 - accuracy: 0.9893 - val_loss: 16.6423 - val_accuracy: 0.9983\n",
      "Epoch 2/20\n",
      "112/112 [==============================] - 1s 4ms/step - loss: 11.5310 - accuracy: 0.9983 - val_loss: 7.4581 - val_accuracy: 0.9983\n",
      "Epoch 3/20\n",
      "112/112 [==============================] - 1s 4ms/step - loss: 12.1806 - accuracy: 0.9898 - val_loss: 43.0494 - val_accuracy: 0.9983\n",
      "Epoch 4/20\n",
      "112/112 [==============================] - 1s 4ms/step - loss: 36.9017 - accuracy: 0.9983 - val_loss: 34.6146 - val_accuracy: 0.9983\n",
      "Epoch 5/20\n",
      "112/112 [==============================] - 1s 4ms/step - loss: 27.8286 - accuracy: 0.9983 - val_loss: 24.6757 - val_accuracy: 0.9983\n",
      "Epoch 6/20\n",
      "112/112 [==============================] - 1s 4ms/step - loss: 18.2232 - accuracy: 0.9983 - val_loss: 14.0543 - val_accuracy: 0.9982\n",
      "Epoch 7/20\n",
      "112/112 [==============================] - 1s 4ms/step - loss: 7.9917 - accuracy: 0.9982 - val_loss: 2.7814 - val_accuracy: 0.9980\n",
      "Epoch 8/20\n",
      "112/112 [==============================] - 1s 4ms/step - loss: 17.5150 - accuracy: 0.9934 - val_loss: 23.7630 - val_accuracy: 0.9982\n",
      "Epoch 9/20\n",
      "112/112 [==============================] - 1s 5ms/step - loss: 16.9582 - accuracy: 0.9983 - val_loss: 12.2130 - val_accuracy: 0.9982\n",
      "Epoch 10/20\n",
      "112/112 [==============================] - 1s 4ms/step - loss: 5.8546 - accuracy: 0.9969 - val_loss: 3.2514 - val_accuracy: 0.9982\n",
      "Epoch 11/20\n",
      "112/112 [==============================] - 1s 4ms/step - loss: 0.5739 - accuracy: 0.9950 - val_loss: 0.1206 - val_accuracy: 0.9955\n",
      "Epoch 12/20\n",
      "112/112 [==============================] - 1s 4ms/step - loss: 0.1236 - accuracy: 0.9948 - val_loss: 0.0898 - val_accuracy: 0.9951\n",
      "Epoch 13/20\n",
      "112/112 [==============================] - 1s 4ms/step - loss: 37.5778 - accuracy: 0.9895 - val_loss: 50.7516 - val_accuracy: 0.9983\n",
      "Epoch 14/20\n",
      "112/112 [==============================] - 0s 3ms/step - loss: 42.0145 - accuracy: 0.9983 - val_loss: 39.2345 - val_accuracy: 0.9983\n",
      "Epoch 15/20\n",
      "112/112 [==============================] - 1s 3ms/step - loss: 31.8198 - accuracy: 0.9983 - val_loss: 28.5237 - val_accuracy: 0.9982\n",
      "Epoch 16/20\n",
      "112/112 [==============================] - 1s 3ms/step - loss: 22.0521 - accuracy: 0.9983 - val_loss: 17.8873 - val_accuracy: 0.9983\n",
      "Epoch 17/20\n",
      "112/112 [==============================] - 0s 3ms/step - loss: 10.7204 - accuracy: 0.9983 - val_loss: 3.6821 - val_accuracy: 0.9981\n",
      "Epoch 18/20\n",
      "112/112 [==============================] - 0s 3ms/step - loss: 17.9304 - accuracy: 0.9887 - val_loss: 46.1291 - val_accuracy: 0.9983\n",
      "Epoch 19/20\n",
      "112/112 [==============================] - 0s 3ms/step - loss: 38.3631 - accuracy: 0.9983 - val_loss: 35.7369 - val_accuracy: 0.9983\n",
      "Epoch 20/20\n",
      "112/112 [==============================] - 0s 3ms/step - loss: 29.0592 - accuracy: 0.9983 - val_loss: 26.4944 - val_accuracy: 0.9983\n",
      "Time to fit:  11.97308897972107\n"
     ]
    }
   ],
   "source": [
    "train_ds_df, val_ds_df = get_keras_dataset(df_large, target=\"Class\", val_split=VAL_SPLIT, batch_size=BATCH_SIZE)\n",
    "\n",
    "# Define the model\n",
    "model = tf.keras.Sequential([\n",
    "    tf.keras.layers.Dense(64, activation='relu'),\n",
    "    tf.keras.layers.Dense(64, activation='relu'),\n",
    "    tf.keras.layers.Dense(1, activation='sigmoid')\n",
    "])\n",
    "\n",
    "# Compile the model\n",
    "model.compile(optimizer=tf.keras.optimizers.Adam(),\n",
    "              loss=tf.keras.losses.BinaryCrossentropy(),\n",
    "              metrics=\"accuracy\")\n",
    "\n",
    "# Fit the model to the data\n",
    "# time the fit\n",
    "\n",
    "start = time.time()\n",
    "model.fit(train_ds_df, epochs=BASE_EPOCHS, validation_data=val_ds_df)\n",
    "end = time.time()\n",
    "print(\"Time to fit: \", end - start)"
   ]
  },
  {
   "attachments": {},
   "cell_type": "markdown",
   "metadata": {},
   "source": [
    "### Polars DataFrame\n",
    "\n",
    "We can also use the faster and more efficient Polars DataFrame to load the data. This is a DataFrame that is written in Rust, and is much faster than Pandas. Polars dataframes aren't promised to be a one-to-one replacement for Pandas, but they are very similar, and can be used in most cases where Pandas is used with few, if any, changes.\n",
    "\n",
    "#### Polars Specifics\n",
    "\n",
    "Polars offers a fair bit of stuff for performance, as that is it's main selling point. Among them:\n",
    "<ul>\n",
    "<li> Low memory parameter - this will try to load the data in a way that uses less memory, but may be slower. </li>\n",
    "<li> Lazy execution - Polars has options to work lazily, which means that it won't actually do work like loading data until it is needed. </li>\n",
    "<li> Parallel execution - Polars can use multiple threads to do work, which can speed things up. </li>\n",
    "</ul>"
   ]
  },
  {
   "cell_type": "code",
   "execution_count": 19,
   "metadata": {},
   "outputs": [],
   "source": [
    "if IN_COLAB:\n",
    "  !pip install polars\n",
    "import polars as pl"
   ]
  },
  {
   "cell_type": "code",
   "execution_count": 20,
   "metadata": {},
   "outputs": [
    {
     "data": {
      "text/html": [
       "<div><style>\n",
       ".dataframe > thead > tr > th,\n",
       ".dataframe > tbody > tr > td {\n",
       "  text-align: right;\n",
       "}\n",
       "</style>\n",
       "<small>shape: (5, 31)</small><table border=\"1\" class=\"dataframe\"><thead><tr><th>Time</th><th>V1</th><th>V2</th><th>V3</th><th>V4</th><th>V5</th><th>V6</th><th>V7</th><th>V8</th><th>V9</th><th>V10</th><th>V11</th><th>V12</th><th>V13</th><th>V14</th><th>V15</th><th>V16</th><th>V17</th><th>V18</th><th>V19</th><th>V20</th><th>V21</th><th>V22</th><th>V23</th><th>V24</th><th>V25</th><th>V26</th><th>V27</th><th>V28</th><th>Amount</th><th>Class</th></tr><tr><td>i64</td><td>f64</td><td>f64</td><td>f64</td><td>f64</td><td>f64</td><td>f64</td><td>f64</td><td>f64</td><td>f64</td><td>f64</td><td>f64</td><td>f64</td><td>f64</td><td>f64</td><td>f64</td><td>f64</td><td>f64</td><td>f64</td><td>f64</td><td>f64</td><td>f64</td><td>f64</td><td>f64</td><td>f64</td><td>f64</td><td>f64</td><td>f64</td><td>f64</td><td>f64</td><td>i64</td></tr></thead><tbody><tr><td>0</td><td>-1.359807</td><td>-0.072781</td><td>2.536347</td><td>1.378155</td><td>-0.338321</td><td>0.462388</td><td>0.239599</td><td>0.098698</td><td>0.363787</td><td>0.090794</td><td>-0.5516</td><td>-0.617801</td><td>-0.99139</td><td>-0.311169</td><td>1.468177</td><td>-0.470401</td><td>0.207971</td><td>0.025791</td><td>0.403993</td><td>0.251412</td><td>-0.018307</td><td>0.277838</td><td>-0.110474</td><td>0.066928</td><td>0.128539</td><td>-0.189115</td><td>0.133558</td><td>-0.021053</td><td>149.62</td><td>0</td></tr><tr><td>0</td><td>1.191857</td><td>0.266151</td><td>0.16648</td><td>0.448154</td><td>0.060018</td><td>-0.082361</td><td>-0.078803</td><td>0.085102</td><td>-0.255425</td><td>-0.166974</td><td>1.612727</td><td>1.065235</td><td>0.489095</td><td>-0.143772</td><td>0.635558</td><td>0.463917</td><td>-0.114805</td><td>-0.183361</td><td>-0.145783</td><td>-0.069083</td><td>-0.225775</td><td>-0.638672</td><td>0.101288</td><td>-0.339846</td><td>0.16717</td><td>0.125895</td><td>-0.008983</td><td>0.014724</td><td>2.69</td><td>0</td></tr><tr><td>1</td><td>-1.358354</td><td>-1.340163</td><td>1.773209</td><td>0.37978</td><td>-0.503198</td><td>1.800499</td><td>0.791461</td><td>0.247676</td><td>-1.514654</td><td>0.207643</td><td>0.624501</td><td>0.066084</td><td>0.717293</td><td>-0.165946</td><td>2.345865</td><td>-2.890083</td><td>1.109969</td><td>-0.121359</td><td>-2.261857</td><td>0.52498</td><td>0.247998</td><td>0.771679</td><td>0.909412</td><td>-0.689281</td><td>-0.327642</td><td>-0.139097</td><td>-0.055353</td><td>-0.059752</td><td>378.66</td><td>0</td></tr><tr><td>1</td><td>-0.966272</td><td>-0.185226</td><td>1.792993</td><td>-0.863291</td><td>-0.010309</td><td>1.247203</td><td>0.237609</td><td>0.377436</td><td>-1.387024</td><td>-0.054952</td><td>-0.226487</td><td>0.178228</td><td>0.507757</td><td>-0.287924</td><td>-0.631418</td><td>-1.059647</td><td>-0.684093</td><td>1.965775</td><td>-1.232622</td><td>-0.208038</td><td>-0.1083</td><td>0.005274</td><td>-0.190321</td><td>-1.175575</td><td>0.647376</td><td>-0.221929</td><td>0.062723</td><td>0.061458</td><td>123.5</td><td>0</td></tr><tr><td>2</td><td>-1.158233</td><td>0.877737</td><td>1.548718</td><td>0.403034</td><td>-0.407193</td><td>0.095921</td><td>0.592941</td><td>-0.270533</td><td>0.817739</td><td>0.753074</td><td>-0.822843</td><td>0.538196</td><td>1.345852</td><td>-1.11967</td><td>0.175121</td><td>-0.451449</td><td>-0.237033</td><td>-0.038195</td><td>0.803487</td><td>0.408542</td><td>-0.009431</td><td>0.798278</td><td>-0.137458</td><td>0.141267</td><td>-0.20601</td><td>0.502292</td><td>0.219422</td><td>0.215153</td><td>69.99</td><td>0</td></tr></tbody></table></div>"
      ],
      "text/plain": [
       "shape: (5, 31)\n",
       "┌──────┬───────────┬───────────┬──────────┬─────┬───────────┬───────────┬────────┬───────┐\n",
       "│ Time ┆ V1        ┆ V2        ┆ V3       ┆ ... ┆ V27       ┆ V28       ┆ Amount ┆ Class │\n",
       "│ ---  ┆ ---       ┆ ---       ┆ ---      ┆     ┆ ---       ┆ ---       ┆ ---    ┆ ---   │\n",
       "│ i64  ┆ f64       ┆ f64       ┆ f64      ┆     ┆ f64       ┆ f64       ┆ f64    ┆ i64   │\n",
       "╞══════╪═══════════╪═══════════╪══════════╪═════╪═══════════╪═══════════╪════════╪═══════╡\n",
       "│ 0    ┆ -1.359807 ┆ -0.072781 ┆ 2.536347 ┆ ... ┆ 0.133558  ┆ -0.021053 ┆ 149.62 ┆ 0     │\n",
       "│ 0    ┆ 1.191857  ┆ 0.266151  ┆ 0.16648  ┆ ... ┆ -0.008983 ┆ 0.014724  ┆ 2.69   ┆ 0     │\n",
       "│ 1    ┆ -1.358354 ┆ -1.340163 ┆ 1.773209 ┆ ... ┆ -0.055353 ┆ -0.059752 ┆ 378.66 ┆ 0     │\n",
       "│ 1    ┆ -0.966272 ┆ -0.185226 ┆ 1.792993 ┆ ... ┆ 0.062723  ┆ 0.061458  ┆ 123.5  ┆ 0     │\n",
       "│ 2    ┆ -1.158233 ┆ 0.877737  ┆ 1.548718 ┆ ... ┆ 0.219422  ┆ 0.215153  ┆ 69.99  ┆ 0     │\n",
       "└──────┴───────────┴───────────┴──────────┴─────┴───────────┴───────────┴────────┴───────┘"
      ]
     },
     "execution_count": 20,
     "metadata": {},
     "output_type": "execute_result"
    }
   ],
   "source": [
    "# Read file at zip path into a polars dataframe\n",
    "df_polar = pl.read_csv(zip_path, ignore_errors=True, low_memory=True)\n",
    "df_polar.head()"
   ]
  },
  {
   "attachments": {},
   "cell_type": "markdown",
   "metadata": {},
   "source": [
    "### Using Polars\n",
    "\n",
    "Polars doesn't have the same native support in TensorFlow as Pandas does, so we need to convert it to a Pandas dataframe or an array to feed it into any models. One thing that may be useful with Polars would be to split a very large csv into multiple smallers ones, that could then be loaded one at a time. Something like the function below could be adapted to load a csv into a Polars dataframe, do whatever data manipulation is needed, then write it out to several smaller csv files. The make_csv_dataset is able to natively read in multiple csv files. \n",
    "\n",
    "<b>Note:</b> If we were actually doing something like this, it is likely easier to do a train-validation-test split as we write the output into different subfolders. Manipulating data is easier in a dataframe than a dataset. "
   ]
  },
  {
   "cell_type": "code",
   "execution_count": 21,
   "metadata": {},
   "outputs": [],
   "source": [
    "if IN_COLAB:\n",
    "  !mkdir polar_out\n",
    "  !mkdir polar_out/train\n",
    "  !mkdir polar_out/val"
   ]
  },
  {
   "cell_type": "code",
   "execution_count": 22,
   "metadata": {},
   "outputs": [
    {
     "ename": "PanicException",
     "evalue": "called `Result::unwrap()` on an `Err` value: Os { code: 3, kind: NotFound, message: \"The system cannot find the path specified.\" }",
     "output_type": "error",
     "traceback": [
      "\u001b[1;31m---------------------------------------------------------------------------\u001b[0m",
      "\u001b[1;31mPanicException\u001b[0m                            Traceback (most recent call last)",
      "\u001b[1;32m~\\AppData\\Local\\Temp\\ipykernel_12088\\1166820181.py\u001b[0m in \u001b[0;36m<module>\u001b[1;34m\u001b[0m\n\u001b[0;32m      9\u001b[0m     \u001b[1;32melse\u001b[0m\u001b[1;33m:\u001b[0m\u001b[1;33m\u001b[0m\u001b[1;33m\u001b[0m\u001b[0m\n\u001b[0;32m     10\u001b[0m         \u001b[0mfname\u001b[0m \u001b[1;33m=\u001b[0m \u001b[1;34m\"polar_out/train/data_{}.csv\"\u001b[0m\u001b[1;33m.\u001b[0m\u001b[0mformat\u001b[0m\u001b[1;33m(\u001b[0m\u001b[0mi\u001b[0m\u001b[1;33m)\u001b[0m\u001b[1;33m\u001b[0m\u001b[1;33m\u001b[0m\u001b[0m\n\u001b[1;32m---> 11\u001b[1;33m     \u001b[0mrecord_batch\u001b[0m\u001b[1;33m.\u001b[0m\u001b[0mwrite_csv\u001b[0m\u001b[1;33m(\u001b[0m\u001b[0mfname\u001b[0m\u001b[1;33m)\u001b[0m\u001b[1;33m\u001b[0m\u001b[1;33m\u001b[0m\u001b[0m\n\u001b[0m\u001b[0;32m     12\u001b[0m     \u001b[0mi\u001b[0m \u001b[1;33m+=\u001b[0m \u001b[1;36m1\u001b[0m\u001b[1;33m\u001b[0m\u001b[1;33m\u001b[0m\u001b[0m\n",
      "\u001b[1;32mc:\\Users\\dlee2\\anaconda3\\lib\\site-packages\\polars\\utils\\decorators.py\u001b[0m in \u001b[0;36mwrapper\u001b[1;34m(*args, **kwargs)\u001b[0m\n\u001b[0;32m    124\u001b[0m             \u001b[1;32mif\u001b[0m \u001b[0mlen\u001b[0m\u001b[1;33m(\u001b[0m\u001b[0margs\u001b[0m\u001b[1;33m)\u001b[0m \u001b[1;33m>\u001b[0m \u001b[0mnum_allowed_args\u001b[0m\u001b[1;33m:\u001b[0m\u001b[1;33m\u001b[0m\u001b[1;33m\u001b[0m\u001b[0m\n\u001b[0;32m    125\u001b[0m                 \u001b[0mwarnings\u001b[0m\u001b[1;33m.\u001b[0m\u001b[0mwarn\u001b[0m\u001b[1;33m(\u001b[0m\u001b[0mmsg\u001b[0m\u001b[1;33m,\u001b[0m \u001b[0mDeprecationWarning\u001b[0m\u001b[1;33m,\u001b[0m \u001b[0mstacklevel\u001b[0m\u001b[1;33m=\u001b[0m\u001b[1;36m2\u001b[0m\u001b[1;33m)\u001b[0m\u001b[1;33m\u001b[0m\u001b[1;33m\u001b[0m\u001b[0m\n\u001b[1;32m--> 126\u001b[1;33m             \u001b[1;32mreturn\u001b[0m \u001b[0mfunction\u001b[0m\u001b[1;33m(\u001b[0m\u001b[1;33m*\u001b[0m\u001b[0margs\u001b[0m\u001b[1;33m,\u001b[0m \u001b[1;33m**\u001b[0m\u001b[0mkwargs\u001b[0m\u001b[1;33m)\u001b[0m\u001b[1;33m\u001b[0m\u001b[1;33m\u001b[0m\u001b[0m\n\u001b[0m\u001b[0;32m    127\u001b[0m \u001b[1;33m\u001b[0m\u001b[0m\n\u001b[0;32m    128\u001b[0m         \u001b[0mwrapper\u001b[0m\u001b[1;33m.\u001b[0m\u001b[0m__signature__\u001b[0m \u001b[1;33m=\u001b[0m \u001b[0mnew_sig\u001b[0m  \u001b[1;31m# type: ignore[attr-defined]\u001b[0m\u001b[1;33m\u001b[0m\u001b[1;33m\u001b[0m\u001b[0m\n",
      "\u001b[1;32mc:\\Users\\dlee2\\anaconda3\\lib\\site-packages\\polars\\internals\\dataframe\\frame.py\u001b[0m in \u001b[0;36mwrite_csv\u001b[1;34m(self, file, has_header, sep, quote, batch_size, datetime_format, date_format, time_format, float_precision, null_value)\u001b[0m\n\u001b[0;32m   2348\u001b[0m             \u001b[0mfile\u001b[0m \u001b[1;33m=\u001b[0m \u001b[0mnormalise_filepath\u001b[0m\u001b[1;33m(\u001b[0m\u001b[0mfile\u001b[0m\u001b[1;33m)\u001b[0m\u001b[1;33m\u001b[0m\u001b[1;33m\u001b[0m\u001b[0m\n\u001b[0;32m   2349\u001b[0m \u001b[1;33m\u001b[0m\u001b[0m\n\u001b[1;32m-> 2350\u001b[1;33m         self._df.write_csv(\n\u001b[0m\u001b[0;32m   2351\u001b[0m             \u001b[0mfile\u001b[0m\u001b[1;33m,\u001b[0m\u001b[1;33m\u001b[0m\u001b[1;33m\u001b[0m\u001b[0m\n\u001b[0;32m   2352\u001b[0m             \u001b[0mhas_header\u001b[0m\u001b[1;33m,\u001b[0m\u001b[1;33m\u001b[0m\u001b[1;33m\u001b[0m\u001b[0m\n",
      "\u001b[1;31mPanicException\u001b[0m: called `Result::unwrap()` on an `Err` value: Os { code: 3, kind: NotFound, message: \"The system cannot find the path specified.\" }"
     ]
    }
   ],
   "source": [
    "i = 0\n",
    "split = 0.2\n",
    "#Shuffle data. Takes a peak of 2x memory to do so. \n",
    "df_polar = df_polar.sample(frac=1.0)\n",
    "for frame in df_polar.iter_slices(n_rows=BATCH_SIZE):\n",
    "    record_batch = frame\n",
    "    if i % 5 == 0:\n",
    "        fname = \"polar_out/val/data_{}.csv\".format(i)\n",
    "    else:\n",
    "        fname = \"polar_out/train/data_{}.csv\".format(i)\n",
    "    record_batch.write_csv(fname)\n",
    "    i += 1"
   ]
  },
  {
   "attachments": {},
   "cell_type": "markdown",
   "metadata": {},
   "source": [
    "#### Read Folder\n",
    "\n",
    "We can create datasets from a folder of csv files. This is useful if we have a large csv file that we have split into multiple smaller ones. We can utilize any of the tuning things like cache and batch size to control the memory usage. "
   ]
  },
  {
   "cell_type": "code",
   "execution_count": null,
   "metadata": {},
   "outputs": [],
   "source": [
    "split_ds = tf.data.experimental.make_csv_dataset(\n",
    "            file_pattern = \"polar_out/train/*.csv\",\n",
    "            batch_size=64, \n",
    "            num_epochs=BASE_EPOCHS,\n",
    "            num_parallel_reads=20,\n",
    "            shuffle_buffer_size=10000)"
   ]
  },
  {
   "attachments": {},
   "cell_type": "markdown",
   "metadata": {},
   "source": [
    "## Generators\n",
    "\n",
    "We can also make a generator for the above files. This one loads each file as one batch, so it fits with the idea above on embedding all the processing into the step that writes the files. "
   ]
  },
  {
   "cell_type": "code",
   "execution_count": null,
   "metadata": {},
   "outputs": [],
   "source": [
    "class CSVGenerator(Sequence):\n",
    "    def __init__(self, folder_path, shuffle=True):\n",
    "        self.folder_path = folder_path\n",
    "        self.shuffle = shuffle\n",
    "        self.files = sorted(os.listdir(self.folder_path))\n",
    "        self.indexes = np.arange(len(self.files))\n",
    "        if self.shuffle:\n",
    "            np.random.shuffle(self.indexes)\n",
    "\n",
    "    def __len__(self):\n",
    "        return len(self.files)\n",
    "\n",
    "    def __getitem__(self, index):\n",
    "        file_path = os.path.join(self.folder_path, self.files[index])\n",
    "        data = pd.read_csv(file_path)\n",
    "        X = data.iloc[:, :-1].values\n",
    "        y = data.iloc[:, -1].values\n",
    "       \n",
    "        return X, y\n",
    "\n"
   ]
  },
  {
   "cell_type": "code",
   "execution_count": null,
   "metadata": {},
   "outputs": [],
   "source": [
    "train_generator = CSVGenerator(\"polar_out/train\")\n",
    "val_generator = CSVGenerator(\"polar_out/val\")"
   ]
  },
  {
   "cell_type": "code",
   "execution_count": 23,
   "metadata": {},
   "outputs": [
    {
     "name": "stdout",
     "output_type": "stream",
     "text": [
      "Epoch 1/20\n",
      "228/228 [==============================] - 5s 16ms/step - loss: nan - accuracy: 0.9939 - val_loss: nan - val_accuracy: 0.9983\n",
      "Epoch 2/20\n",
      "228/228 [==============================] - 3s 14ms/step - loss: nan - accuracy: 0.9983 - val_loss: nan - val_accuracy: 0.9983\n",
      "Epoch 3/20\n",
      "228/228 [==============================] - 3s 13ms/step - loss: nan - accuracy: 0.9983 - val_loss: nan - val_accuracy: 0.9983\n",
      "Epoch 4/20\n",
      "228/228 [==============================] - 3s 13ms/step - loss: nan - accuracy: 0.9983 - val_loss: nan - val_accuracy: 0.9983\n",
      "Epoch 5/20\n",
      "228/228 [==============================] - 3s 13ms/step - loss: nan - accuracy: 0.9983 - val_loss: nan - val_accuracy: 0.9983\n",
      "Epoch 6/20\n",
      "228/228 [==============================] - 3s 13ms/step - loss: nan - accuracy: 0.9983 - val_loss: nan - val_accuracy: 0.9983\n",
      "Epoch 7/20\n",
      "228/228 [==============================] - 3s 13ms/step - loss: nan - accuracy: 0.9983 - val_loss: nan - val_accuracy: 0.9983\n",
      "Epoch 8/20\n",
      "228/228 [==============================] - 3s 14ms/step - loss: nan - accuracy: 0.9983 - val_loss: nan - val_accuracy: 0.9983\n",
      "Epoch 9/20\n",
      "228/228 [==============================] - 3s 14ms/step - loss: nan - accuracy: 0.9983 - val_loss: nan - val_accuracy: 0.9983\n",
      "Epoch 10/20\n",
      "228/228 [==============================] - 3s 14ms/step - loss: nan - accuracy: 0.9983 - val_loss: nan - val_accuracy: 0.9983\n",
      "Epoch 11/20\n",
      "228/228 [==============================] - 3s 14ms/step - loss: nan - accuracy: 0.9983 - val_loss: nan - val_accuracy: 0.9983\n",
      "Epoch 12/20\n",
      "228/228 [==============================] - 3s 14ms/step - loss: nan - accuracy: 0.9983 - val_loss: nan - val_accuracy: 0.9983\n",
      "Epoch 13/20\n",
      "228/228 [==============================] - 3s 14ms/step - loss: nan - accuracy: 0.9983 - val_loss: nan - val_accuracy: 0.9983\n",
      "Epoch 14/20\n",
      "228/228 [==============================] - 3s 13ms/step - loss: nan - accuracy: 0.9983 - val_loss: nan - val_accuracy: 0.9983\n",
      "Epoch 15/20\n",
      "228/228 [==============================] - 3s 14ms/step - loss: nan - accuracy: 0.9983 - val_loss: nan - val_accuracy: 0.9983\n",
      "Epoch 16/20\n",
      "228/228 [==============================] - 3s 14ms/step - loss: nan - accuracy: 0.9983 - val_loss: nan - val_accuracy: 0.9983\n",
      "Epoch 17/20\n",
      "228/228 [==============================] - 3s 14ms/step - loss: nan - accuracy: 0.9983 - val_loss: nan - val_accuracy: 0.9983\n",
      "Epoch 18/20\n",
      "228/228 [==============================] - 3s 14ms/step - loss: nan - accuracy: 0.9983 - val_loss: nan - val_accuracy: 0.9983\n",
      "Epoch 19/20\n",
      "228/228 [==============================] - 3s 14ms/step - loss: nan - accuracy: 0.9983 - val_loss: nan - val_accuracy: 0.9983\n",
      "Epoch 20/20\n",
      "228/228 [==============================] - 4s 17ms/step - loss: nan - accuracy: 0.9983 - val_loss: nan - val_accuracy: 0.9983\n",
      "Time to fit:  65.70329189300537\n"
     ]
    }
   ],
   "source": [
    "# Define the model\n",
    "model = tf.keras.Sequential([\n",
    "    tf.keras.layers.Dense(64, activation='relu'),\n",
    "    tf.keras.layers.Dense(64, activation='relu'),\n",
    "    tf.keras.layers.Dense(1, activation='sigmoid')\n",
    "])\n",
    "\n",
    "# Compile the model\n",
    "model.compile(optimizer=tf.keras.optimizers.Adam(),\n",
    "              loss=tf.keras.losses.BinaryCrossentropy(),\n",
    "              metrics=\"accuracy\")\n",
    "\n",
    "# Fit the model to the data\n",
    "# time the fit\n",
    "\n",
    "start = time.time()\n",
    "model.fit(train_generator, epochs=BASE_EPOCHS, validation_data=val_generator, steps_per_epoch=len(train_generator))\n",
    "end = time.time()\n",
    "print(\"Time to fit: \", end - start)"
   ]
  }
 ],
 "metadata": {
  "kernelspec": {
   "display_name": "ml3950",
   "language": "python",
   "name": "python3"
  },
  "language_info": {
   "codemirror_mode": {
    "name": "ipython",
    "version": 3
   },
   "file_extension": ".py",
   "mimetype": "text/x-python",
   "name": "python",
   "nbconvert_exporter": "python",
   "pygments_lexer": "ipython3",
   "version": "3.9.13"
  },
  "orig_nbformat": 4
 },
 "nbformat": 4,
 "nbformat_minor": 2
}
